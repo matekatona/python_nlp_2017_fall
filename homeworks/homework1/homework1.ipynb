{
 "cells": [
  {
   "cell_type": "markdown",
   "metadata": {},
   "source": [
    "# Homework 1\n",
    "\n",
    "The maximum score of this homework is 100+20 points. Grading is listed in this table:\n",
    "\n",
    "| Grade | Score range |\n",
    "| --- | --- |\n",
    "| 5 | 85+ |\n",
    "| 4 | 70-84 |\n",
    "| 3 | 55-69 |\n",
    "| 2 | 40-54 |\n",
    "| 1 | 0-39 |\n",
    "\n",
    "Most exercises include tests which should pass if your solution is correct.\n",
    "However successful test do not guarantee that your solution is correct.\n",
    "You are free to add more tests.\n",
    "\n",
    "\n",
    "# Exercise 1, small exercises (30 points)\n",
    "\n",
    "## 1.1 Groupby function (10 points)\n",
    "\n",
    "Write a function that takes a sequene and a callable as parameters. The function should call its second parameter on every element on the sequence and group them by return value. It should return a dictionary whose keys are the return values of the callable and values are lists of sequence elements that the callable return that value to."
   ]
  },
  {
   "cell_type": "code",
   "execution_count": 15,
   "metadata": {
    "collapsed": true
   },
   "outputs": [],
   "source": [
    "def group_by_retval(sequence, grouper_func):\n",
    "    ret = {}\n",
    "    for elem in sequence:\n",
    "        r = grouper_func(elem)\n",
    "        try:\n",
    "            ret[r].append(elem)\n",
    "        except KeyError:\n",
    "            ret[r] = [elem]\n",
    "    return ret\n",
    "        \n",
    "\n",
    "l = [\"ab\", 12, \"cd\", \"d\", 3]\n",
    "\n",
    "assert(group_by_retval(l, lambda x: isinstance(x, str)) == {True: [\"ab\", \"cd\", \"d\"], False: [12, 3]})\n",
    "assert(group_by_retval([1, 1, 2, 3, 4], lambda x: x % 3) == {0: [3], 1: [1, 1, 4], 2: [2]})"
   ]
  },
  {
   "cell_type": "markdown",
   "metadata": {},
   "source": [
    "## 1.2 Replace rare words (10 points)\n",
    "\n",
    "Write a function that takes a text and a number $N$ as parameters and replaces every word other than the most common $N$ in the text with a common symbol. The symbol by default is `__RARE__` but it can be redefined."
   ]
  },
  {
   "cell_type": "code",
   "execution_count": 4,
   "metadata": {
    "collapsed": true
   },
   "outputs": [],
   "source": [
    "def wordify(txt):\n",
    "    return txt.split(' ')  # TODO punctuation not handled\n",
    "\n",
    "\n",
    "def most_common_words(words, N):\n",
    "    order = {}\n",
    "    for word in words:\n",
    "        occ = order.get(word, 0)\n",
    "        order[word] = occ + 1\n",
    "    decr_comm = [o[0] for o in sorted(list(order.items()), key=lambda t: t[1], reverse=True)]\n",
    "    return decr_comm[:N]\n",
    "\n",
    "\n",
    "assert(most_common_words(wordify('a aa aa aa b b'), 2) == ['aa', 'b'])"
   ]
  },
  {
   "cell_type": "code",
   "execution_count": 5,
   "metadata": {},
   "outputs": [],
   "source": [
    "def replace_rare_words(txt, N, rare_symbol=\"__RARE__\"):\n",
    "    words = wordify(txt)\n",
    "    commons = most_common_words(words, N)\n",
    "    return ' '.join([w if w in commons else rare_symbol for w in words])\n",
    "    \n",
    "\n",
    "assert(replace_rare_words(\"a b a b b c\", 2) == \"a b a b b __RARE__\")\n",
    "assert(replace_rare_words(\"a b a b b c\", 2, rare_symbol=\"rare\") == \"a b a b b rare\")"
   ]
  },
  {
   "cell_type": "markdown",
   "metadata": {},
   "source": [
    "## 1.3 Levenshtein distance (10 points)\n",
    "\n",
    "Write a function that returns the Levenshtein distance of two strings.\n",
    "\n",
    "https://en.wikipedia.org/wiki/Levenshtein_distance"
   ]
  },
  {
   "cell_type": "code",
   "execution_count": 65,
   "metadata": {},
   "outputs": [],
   "source": [
    "def levenshtein(s, t):\n",
    "    \"\"\"\n",
    "        implementation based on:\n",
    "        https://people.cs.pitt.edu/~kirk/cs1501/Pruhs/Spring2006/assignments/editdistance/Levenshtein%20Distance.htm\n",
    "    \"\"\"\n",
    "    m, n = len(s), len(t)\n",
    "    if m == 0:\n",
    "        return n\n",
    "    if n == 0:\n",
    "        return m\n",
    "    # init levenshtein matrix\n",
    "    lev = [[j for j in range(n+1)] for i in range(m+1)]\n",
    "    # fill matrix\n",
    "    for i in range(1, m+1):\n",
    "        for j in range(1, n+1):\n",
    "            cost = int((s[i-1] != t[j-1]))\n",
    "            lev[i][j] = min(\n",
    "                lev[i-1][j] + 1,\n",
    "                lev[i][j-1] + 1,\n",
    "                lev[i-1][j-1] + cost,\n",
    "            )\n",
    "    return lev[m][n]\n",
    "\n",
    "\n",
    "assert(levenshtein(\"abc\", \"ab\") == 1)\n",
    "assert(levenshtein(\"abc\", \"abc\") == 0)\n",
    "assert(levenshtein(\"abc\", \"ab c\") == 1)\n",
    "assert(levenshtein(\"\", \"abc\") == 3)"
   ]
  },
  {
   "cell_type": "code",
   "execution_count": 66,
   "metadata": {
    "collapsed": true
   },
   "outputs": [],
   "source": [
    "import numpy as np\n",
    "\n",
    "\n",
    "def levenshtein_np(s, t):\n",
    "    \"\"\"\n",
    "        implementation based on:\n",
    "        https://people.cs.pitt.edu/~kirk/cs1501/Pruhs/Spring2006/assignments/editdistance/Levenshtein%20Distance.htm\n",
    "    \"\"\"\n",
    "    m, n = len(s), len(t)\n",
    "    if m == 0:\n",
    "        return n\n",
    "    if n == 0:\n",
    "        return m\n",
    "    # init levenshtein matrix\n",
    "    lev = np.empty([m+1, n+1], dtype=np.int32)\n",
    "    lev[0, :] = np.arange(n+1)\n",
    "    lev[:,0] = np.arange(m+1)\n",
    "    # fill matrix\n",
    "    for i in range(1, m+1):\n",
    "        for j in range(1, n+1):\n",
    "            cost = int((s[i-1] != t[j-1]))\n",
    "            lev[i, j] = min(\n",
    "                lev[i-1, j] + 1,\n",
    "                lev[i, j-1] + 1,\n",
    "                lev[i-1, j-1] + cost,\n",
    "            )\n",
    "    return lev[m, n]\n",
    "\n",
    "\n",
    "assert(levenshtein_np(\"abc\", \"ab\") == 1)\n",
    "assert(levenshtein_np(\"abc\", \"abc\") == 0)\n",
    "assert(levenshtein_np(\"abc\", \"ab c\") == 1)\n",
    "assert(levenshtein_np(\"\", \"abc\") == 3)"
   ]
  },
  {
   "cell_type": "markdown",
   "metadata": {},
   "source": [
    "# Exercise 2, Mutable string (40 points)\n",
    "\n",
    "Python strings are immutable. Create a mutable string class.\n",
    "\n",
    "Implement the following features (see the tests below).\n",
    "\n",
    "- initialization from `str`.\n",
    "- assignment (i.e. modifying a character),\n",
    "  - if the index is out of range, it should fill the blanks with spaces (see the tests below)\n",
    "- conversion to built-in `str` and `list`. The latter is a list of the characters.\n",
    "- addition with other `MutableString` instances and built-in strings,\n",
    "- multiplication with integers. Multiplying a string with 3 means repeating the string 3 times.\n",
    "- built-in `len` function,\n",
    "- comparision with strings,\n",
    "- iteration."
   ]
  },
  {
   "cell_type": "code",
   "execution_count": 105,
   "metadata": {},
   "outputs": [],
   "source": [
    "class MutableString(object):\n",
    "    def __init__(self, s):\n",
    "        if not isinstance(s, str):\n",
    "            raise TypeError(\"str is expected\")  # TODO human err msg\n",
    "        self._s = s\n",
    "    \n",
    "    def __repr__(self):\n",
    "        return '\"' + self._s + '\"'\n",
    "    \n",
    "    def __getitem__(self, i):\n",
    "        return self._s[i]\n",
    "    \n",
    "    def __setitem__(self, i, c):\n",
    "        l = len(self._s)\n",
    "        if i > l:\n",
    "            self._s = self._s + \" \" * (i-l)\n",
    "        self._s = self._s[:i] + c + self._s[i+1:]\n",
    "    \n",
    "    def __str__(self):\n",
    "        return self._s\n",
    "    \n",
    "    def __iter__(self):\n",
    "        for c in self._s:\n",
    "            yield c\n",
    "            \n",
    "    def __add__(self, other):\n",
    "        if isinstance(other, str):\n",
    "            return MutableString(self._s + other)\n",
    "        if isinstance(other, MutableString):\n",
    "            return MutableString(self._s + other._s)\n",
    "        raise TypeError(\"addition supported only for str and MutableString types\")\n",
    "    \n",
    "    def __radd__(self, other):\n",
    "        if isinstance(other, str):\n",
    "            return MutableString(other + self._s)\n",
    "        raise TypeError(\"addition supported only for str and MutableString types\")\n",
    "    \n",
    "    def __mul__(self, other):\n",
    "        if isinstance(other, int):\n",
    "            return MutableString(self._s * other)\n",
    "        raise TypeError(\"multiplication supported only for integers\")\n",
    "    \n",
    "    def __len__(self):\n",
    "        return len(self._s)\n",
    "    \n",
    "    def __eq__(self, other):\n",
    "        if isinstance(other, str):\n",
    "            return self._s == other\n",
    "        if isinstance(other, MutableString):\n",
    "            return self._s == other._s\n",
    "        raise TypeError(\"comparison supported only with str and MutableString\")"
   ]
  },
  {
   "cell_type": "code",
   "execution_count": 107,
   "metadata": {},
   "outputs": [],
   "source": [
    "m1 = MutableString(\"abc\")\n",
    "m1[1] = \"d\"\n",
    "assert(m1[1] == \"d\")\n",
    "m1[1] = \"b\"\n",
    "m1[4] = \"d\"\n",
    "assert(m1[3] == \" \" and m1[4] == \"d\" and len(m1) == 5)\n",
    "\n",
    "assert(list(m1) == list(\"abc d\"))\n",
    "assert(str(m1) == \"abc d\")\n",
    "\n",
    "m1 = MutableString(\"abc\")\n",
    "m2 = m1 + \"def\"\n",
    "assert(isinstance(m2, MutableString))\n",
    "assert(m2 == \"abcdef\")\n",
    "\n",
    "m3 = m1 * 3\n",
    "assert(isinstance(m3, MutableString) and m3 == \"abcabcabc\")\n",
    "\n",
    "m2[0] = \"A\"  # modifying m2 should not change m1\n",
    "assert(m1 == \"abc\")\n",
    "\n",
    "# right addition with strings\n",
    "m1 = MutableString(\"abc\")\n",
    "m2 = \"def\" + m1\n",
    "assert(m2 == \"defabc\")"
   ]
  },
  {
   "cell_type": "markdown",
   "metadata": {},
   "source": [
    "# Exercise 3 - Text generation (30+20 points)\n",
    "\n",
    "## 3.1 (Same as a laboratory exercise) Write a function that computes N-gram frequencies in a string. (0 point)"
   ]
  },
  {
   "cell_type": "code",
   "execution_count": null,
   "metadata": {
    "collapsed": true
   },
   "outputs": [],
   "source": [
    "# TODO\n",
    "\n",
    "assert(count_ngram_freqs(\"abcc\", 1) == {\"a\": 1, \"b\": 1, \"c\": 2})\n",
    "assert(count_ngram_freqs(\"abccab\", 2) == {\"ab\": 2, \"bc\": 1, \"cc\": 1, \"ca\": 1})"
   ]
  },
  {
   "cell_type": "markdown",
   "metadata": {},
   "source": [
    "## 3.2 Define a text generator function. (25 points)\n",
    "\n",
    "The function takes 4 arguments:\n",
    "\n",
    "1. starting text (at least $N-1$ long,\n",
    "2. target length: length of the output string,\n",
    "3. n-gram frequency dictionary,\n",
    "4. N, length of the n-grams.\n",
    "\n",
    "The function generates one character at a time given the last $N-1$ characters.\n",
    "The probability of `c` being generated after `ab` is defined as:\n",
    "\n",
    "$$\n",
    "P(c | a b ) = \\frac{\\text{freq}(a b c)}{\\text{freq}(a b)},\n",
    "$$\n",
    "\n",
    "where  $\\text{freq}(a b c)$ is obtained by counting how many times `abc` occurs in the training corpus (`count_ngram_freqs` function).\n",
    "\n",
    "If the generated text ends with a $N-1$-gram that does not occur in the training data, generate the next character from the full distribution."
   ]
  },
  {
   "cell_type": "code",
   "execution_count": null,
   "metadata": {
    "collapsed": true
   },
   "outputs": [],
   "source": [
    "# TODO\n",
    "\n",
    "toy_freqs = count_ngram_freqs(\"abcabcda\", 3)\n",
    "gen = generate_text(\"abc\", 5, toy_freqs, 3)\n",
    "\n",
    "assert(len(gen) == 5)\n",
    "assert(set(gen) <= set(\"abcd\"))"
   ]
  },
  {
   "cell_type": "markdown",
   "metadata": {
    "collapsed": true
   },
   "source": [
    "## 3.3 Test your solution on a small Wikipedia corpus. (5 points)\n",
    "\n",
    "Collect a sample of at least 1 million characters from Wikipedia using the `wikipedia` module."
   ]
  },
  {
   "cell_type": "code",
   "execution_count": null,
   "metadata": {
    "collapsed": true
   },
   "outputs": [],
   "source": []
  },
  {
   "cell_type": "markdown",
   "metadata": {},
   "source": [
    "## \\*3.4 Smoothing (20 points)\n",
    "\n",
    "Implement one or more smoothing methods such as Jelinek-Mercer smoothing or Katz's backoff.\n",
    "\n",
    "https://nlp.stanford.edu/~wcmac/papers/20050421-smoothing-tutorial.pdf"
   ]
  },
  {
   "cell_type": "code",
   "execution_count": null,
   "metadata": {
    "collapsed": true
   },
   "outputs": [],
   "source": []
  }
 ],
 "metadata": {
  "kernelspec": {
   "display_name": "Python 3",
   "language": "python",
   "name": "python3"
  },
  "language_info": {
   "codemirror_mode": {
    "name": "ipython",
    "version": 3
   },
   "file_extension": ".py",
   "mimetype": "text/x-python",
   "name": "python",
   "nbconvert_exporter": "python",
   "pygments_lexer": "ipython3",
   "version": "3.6.2"
  }
 },
 "nbformat": 4,
 "nbformat_minor": 2
}
