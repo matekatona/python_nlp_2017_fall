{
 "cells": [
  {
   "cell_type": "markdown",
   "metadata": {},
   "source": [
    "# Katona Máté (PD6YOR)\n",
    "\n",
    "# Homework 1\n",
    "\n",
    "The maximum score of this homework is 100+20 points. Grading is listed in this table:\n",
    "\n",
    "| Grade | Score range |\n",
    "| --- | --- |\n",
    "| 5 | 85+ |\n",
    "| 4 | 70-84 |\n",
    "| 3 | 55-69 |\n",
    "| 2 | 40-54 |\n",
    "| 1 | 0-39 |\n",
    "\n",
    "Most exercises include tests which should pass if your solution is correct.\n",
    "However successful test do not guarantee that your solution is correct.\n",
    "You are free to add more tests.\n",
    "\n",
    "\n",
    "# Exercise 1, small exercises (30 points)\n",
    "\n",
    "## 1.1 Groupby function (10 points)\n",
    "\n",
    "Write a function that takes a sequene and a callable as parameters. The function should call its second parameter on every element on the sequence and group them by return value. It should return a dictionary whose keys are the return values of the callable and values are lists of sequence elements that the callable return that value to."
   ]
  },
  {
   "cell_type": "code",
   "execution_count": null,
   "metadata": {
    "collapsed": true
   },
   "outputs": [],
   "source": [
    "def group_by_retval(sequence, grouper_func):\n",
    "    ret = {}\n",
    "    for elem in sequence:\n",
    "        r = grouper_func(elem)\n",
    "        try:\n",
    "            ret[r].append(elem)\n",
    "        except KeyError:\n",
    "            ret[r] = [elem]\n",
    "    return ret\n",
    "        \n",
    "\n",
    "l = [\"ab\", 12, \"cd\", \"d\", 3]\n",
    "\n",
    "assert(group_by_retval(l, lambda x: isinstance(x, str)) == {True: [\"ab\", \"cd\", \"d\"], False: [12, 3]})\n",
    "assert(group_by_retval([1, 1, 2, 3, 4], lambda x: x % 3) == {0: [3], 1: [1, 1, 4], 2: [2]})"
   ]
  },
  {
   "cell_type": "markdown",
   "metadata": {},
   "source": [
    "## 1.2 Replace rare words (10 points)\n",
    "\n",
    "Write a function that takes a text and a number $N$ as parameters and replaces every word other than the most common $N$ in the text with a common symbol. The symbol by default is `__RARE__` but it can be redefined."
   ]
  },
  {
   "cell_type": "code",
   "execution_count": null,
   "metadata": {
    "collapsed": true
   },
   "outputs": [],
   "source": [
    "def wordify(txt):\n",
    "    return txt.split(' ')  # TODO punctuation not handled\n",
    "\n",
    "\n",
    "def most_common_words(words, N):\n",
    "    order = {}\n",
    "    for word in wordify(words):\n",
    "        occ = order.get(word, 0)\n",
    "        order[word] = occ + 1\n",
    "    decr_comm = [o[0] for o in sorted(list(order.items()), key=lambda t: t[1], reverse=True)]\n",
    "    return decr_comm[:N]\n",
    "\n",
    "\n",
    "assert(most_common_words('a aa aa aa b b', 2) == ['aa', 'b'])"
   ]
  },
  {
   "cell_type": "code",
   "execution_count": null,
   "metadata": {
    "collapsed": true
   },
   "outputs": [],
   "source": [
    "def replace_rare_words(txt, N, rare_symbol=\"__RARE__\"):\n",
    "    commons = most_common_words(txt, N)\n",
    "    return ' '.join([w if w in commons else rare_symbol for w in wordify(txt)])\n",
    "    \n",
    "\n",
    "assert(replace_rare_words(\"a b a b b c\", 2) == \"a b a b b __RARE__\")\n",
    "assert(replace_rare_words(\"a b a b b c\", 2, rare_symbol=\"rare\") == \"a b a b b rare\")"
   ]
  },
  {
   "cell_type": "markdown",
   "metadata": {},
   "source": [
    "## 1.3 Levenshtein distance (10 points)\n",
    "\n",
    "Write a function that returns the Levenshtein distance of two strings.\n",
    "\n",
    "https://en.wikipedia.org/wiki/Levenshtein_distance"
   ]
  },
  {
   "cell_type": "code",
   "execution_count": null,
   "metadata": {
    "collapsed": true
   },
   "outputs": [],
   "source": [
    "def levenshtein(s, t):\n",
    "    \"\"\"\n",
    "        implementation based on:\n",
    "        https://people.cs.pitt.edu/~kirk/cs1501/Pruhs/Spring2006/assignments/editdistance/Levenshtein%20Distance.htm\n",
    "    \"\"\"\n",
    "    m, n = len(s), len(t)\n",
    "    if m == 0:\n",
    "        return n\n",
    "    if n == 0:\n",
    "        return m\n",
    "    # init levenshtein matrix\n",
    "    lev = [[j for j in range(n+1)] for i in range(m+1)]\n",
    "    # fill matrix\n",
    "    for i in range(1, m+1):\n",
    "        for j in range(1, n+1):\n",
    "            cost = int((s[i-1] != t[j-1]))\n",
    "            lev[i][j] = min(\n",
    "                lev[i-1][j] + 1,\n",
    "                lev[i][j-1] + 1,\n",
    "                lev[i-1][j-1] + cost,\n",
    "            )\n",
    "    return lev[m][n]\n",
    "\n",
    "\n",
    "assert(levenshtein(\"abc\", \"ab\") == 1)\n",
    "assert(levenshtein(\"abc\", \"abc\") == 0)\n",
    "assert(levenshtein(\"abc\", \"ab c\") == 1)\n",
    "assert(levenshtein(\"\", \"abc\") == 3)"
   ]
  },
  {
   "cell_type": "code",
   "execution_count": null,
   "metadata": {
    "collapsed": true
   },
   "outputs": [],
   "source": [
    "# same thing implemented using numpy arrays\n",
    "import numpy as np\n",
    "\n",
    "\n",
    "def levenshtein_np(s, t):\n",
    "    \"\"\"\n",
    "        implementation based on:\n",
    "        https://people.cs.pitt.edu/~kirk/cs1501/Pruhs/Spring2006/assignments/editdistance/Levenshtein%20Distance.htm\n",
    "    \"\"\"\n",
    "    m, n = len(s), len(t)\n",
    "    if m == 0:\n",
    "        return n\n",
    "    if n == 0:\n",
    "        return m\n",
    "    # init levenshtein matrix\n",
    "    lev = np.empty([m+1, n+1], dtype=np.int32)\n",
    "    lev[0, :] = np.arange(n+1)\n",
    "    lev[:,0] = np.arange(m+1)\n",
    "    # fill matrix\n",
    "    for i in range(1, m+1):\n",
    "        for j in range(1, n+1):\n",
    "            cost = int((s[i-1] != t[j-1]))\n",
    "            lev[i, j] = min(\n",
    "                lev[i-1, j] + 1,\n",
    "                lev[i, j-1] + 1,\n",
    "                lev[i-1, j-1] + cost,\n",
    "            )\n",
    "    return lev[m, n]\n",
    "\n",
    "\n",
    "assert(levenshtein_np(\"abc\", \"ab\") == 1)\n",
    "assert(levenshtein_np(\"abc\", \"abc\") == 0)\n",
    "assert(levenshtein_np(\"abc\", \"ab c\") == 1)\n",
    "assert(levenshtein_np(\"\", \"abc\") == 3)"
   ]
  },
  {
   "cell_type": "markdown",
   "metadata": {},
   "source": [
    "# Exercise 2, Mutable string (40 points)\n",
    "\n",
    "Python strings are immutable. Create a mutable string class.\n",
    "\n",
    "Implement the following features (see the tests below).\n",
    "\n",
    "- initialization from `str`.\n",
    "- assignment (i.e. modifying a character),\n",
    "  - if the index is out of range, it should fill the blanks with spaces (see the tests below)\n",
    "- conversion to built-in `str` and `list`. The latter is a list of the characters.\n",
    "- addition with other `MutableString` instances and built-in strings,\n",
    "- multiplication with integers. Multiplying a string with 3 means repeating the string 3 times.\n",
    "- built-in `len` function,\n",
    "- comparision with strings,\n",
    "- iteration."
   ]
  },
  {
   "cell_type": "code",
   "execution_count": null,
   "metadata": {
    "collapsed": true
   },
   "outputs": [],
   "source": [
    "class MutableString(object):\n",
    "    def __init__(self, s):\n",
    "        if not isinstance(s, str):\n",
    "            raise TypeError(\"str is expected\")  # TODO human err msg\n",
    "        self._s = s\n",
    "    \n",
    "    def __repr__(self):\n",
    "        return '\"' + self._s + '\"'\n",
    "    \n",
    "    def __getitem__(self, i):\n",
    "        return self._s[i]\n",
    "    \n",
    "    def __setitem__(self, i, c):\n",
    "        l = len(self._s)\n",
    "        if i > l:\n",
    "            self._s = self._s + \" \" * (i-l)\n",
    "        self._s = self._s[:i] + c + self._s[i+1:]\n",
    "    \n",
    "    def __str__(self):\n",
    "        return self._s\n",
    "    \n",
    "    def __iter__(self):\n",
    "        for c in self._s:\n",
    "            yield c\n",
    "            \n",
    "    def __add__(self, other):\n",
    "        if isinstance(other, str):\n",
    "            return MutableString(self._s + other)\n",
    "        if isinstance(other, MutableString):\n",
    "            return MutableString(self._s + other._s)\n",
    "        raise TypeError(\"addition supported only for str and MutableString types\")\n",
    "    \n",
    "    def __radd__(self, other):\n",
    "        if isinstance(other, str):\n",
    "            return MutableString(other + self._s)\n",
    "        raise TypeError(\"addition supported only for str and MutableString types\")\n",
    "    \n",
    "    def __mul__(self, other):\n",
    "        if isinstance(other, int):\n",
    "            return MutableString(self._s * other)\n",
    "        raise TypeError(\"multiplication supported only for integers\")\n",
    "    \n",
    "    def __len__(self):\n",
    "        return len(self._s)\n",
    "    \n",
    "    def __eq__(self, other):\n",
    "        if isinstance(other, str):\n",
    "            return self._s == other\n",
    "        if isinstance(other, MutableString):\n",
    "            return self._s == other._s\n",
    "        raise TypeError(\"comparison supported only with str and MutableString\")"
   ]
  },
  {
   "cell_type": "code",
   "execution_count": null,
   "metadata": {
    "collapsed": true
   },
   "outputs": [],
   "source": [
    "m1 = MutableString(\"abc\")\n",
    "m1[1] = \"d\"\n",
    "assert(m1[1] == \"d\")\n",
    "m1[1] = \"b\"\n",
    "m1[4] = \"d\"\n",
    "assert(m1[3] == \" \" and m1[4] == \"d\" and len(m1) == 5)\n",
    "\n",
    "assert(list(m1) == list(\"abc d\"))\n",
    "assert(str(m1) == \"abc d\")\n",
    "\n",
    "m1 = MutableString(\"abc\")\n",
    "m2 = m1 + \"def\"\n",
    "assert(isinstance(m2, MutableString))\n",
    "assert(m2 == \"abcdef\")\n",
    "\n",
    "m3 = m1 * 3\n",
    "assert(isinstance(m3, MutableString) and m3 == \"abcabcabc\")\n",
    "\n",
    "m2[0] = \"A\"  # modifying m2 should not change m1\n",
    "assert(m1 == \"abc\")\n",
    "\n",
    "# right addition with strings\n",
    "m1 = MutableString(\"abc\")\n",
    "m2 = \"def\" + m1\n",
    "assert(m2 == \"defabc\")"
   ]
  },
  {
   "cell_type": "markdown",
   "metadata": {},
   "source": [
    "# Exercise 3 - Text generation (30+20 points)\n",
    "\n",
    "## 3.1 (Same as a laboratory exercise) Write a function that computes N-gram frequencies in a string. (0 point)"
   ]
  },
  {
   "cell_type": "code",
   "execution_count": null,
   "metadata": {
    "collapsed": true
   },
   "outputs": [],
   "source": [
    "def count_ngram_freqs(s, n):\n",
    "    freqs = {}\n",
    "    for i in range(len(s)-n+1):\n",
    "        ngram = s[i:i+n]\n",
    "        freqs[ngram] = freqs.get(ngram, 0) + 1\n",
    "    return freqs\n",
    "\n",
    "\n",
    "assert(count_ngram_freqs(\"abcc\", 1) == {\"a\": 1, \"b\": 1, \"c\": 2})\n",
    "assert(count_ngram_freqs(\"abccab\", 2) == {\"ab\": 2, \"bc\": 1, \"cc\": 1, \"ca\": 1})"
   ]
  },
  {
   "cell_type": "markdown",
   "metadata": {},
   "source": [
    "## 3.2 Define a text generator function. (25 points)\n",
    "\n",
    "The function takes 4 arguments:\n",
    "\n",
    "1. starting text (at least $N-1$ long,\n",
    "2. target length: length of the output string,\n",
    "3. n-gram frequency dictionary,\n",
    "4. N, length of the n-grams.\n",
    "\n",
    "The function generates one character at a time given the last $N-1$ characters.\n",
    "The probability of `c` being generated after `ab` is defined as:\n",
    "\n",
    "$$\n",
    "P(c | a b ) = \\frac{\\text{freq}(a b c)}{\\text{freq}(a b)},\n",
    "$$\n",
    "\n",
    "where  $\\text{freq}(a b c)$ is obtained by counting how many times `abc` occurs in the training corpus (`count_ngram_freqs` function).\n",
    "\n",
    "If the generated text ends with a $N-1$-gram that does not occur in the training data, generate the next character from the full distribution."
   ]
  },
  {
   "cell_type": "code",
   "execution_count": null,
   "metadata": {
    "collapsed": true
   },
   "outputs": [],
   "source": [
    "from numpy.random import choice\n",
    "import re\n",
    "\n",
    "\n",
    "def generate_char(gram, freqs):\n",
    "    gram_pat = re.compile(re.escape(gram) + '.')  # any char after the (n-1)-gram\n",
    "    grams = [key for key in freqs.keys() if gram_pat.match(key) is not None]\n",
    "    chars = [gram[-1] for gram in grams]\n",
    "    occs = [val for key, val in freqs.items() if key in grams]\n",
    "    probs = [float(o) / sum(occs) for o in occs]\n",
    "    return choice(chars, p=probs)\n",
    "\n",
    "    \n",
    "def generate_text(t, l, d, N):\n",
    "    if len(t) < N-1:\n",
    "        raise ValueError(\"starting text must be at least N-1 long\")\n",
    "    if l <= len(t):\n",
    "        return t  # already long enough, recursion stop condition\n",
    "    tc = t + generate_char(t[-N+1:], d)\n",
    "    return generate_text(tc, l, d, N)\n",
    "    \n",
    "    \n",
    "toy_freqs = count_ngram_freqs(\"abcabcdabca\", 3)\n",
    "gen = generate_text(\"abc\", 5, toy_freqs, 3)\n",
    "\n",
    "assert(len(gen) == 5)\n",
    "assert(set(gen) <= set(\"abcd\"))"
   ]
  },
  {
   "cell_type": "markdown",
   "metadata": {
    "collapsed": true
   },
   "source": [
    "## 3.3 Test your solution on a small Wikipedia corpus. (5 points)\n",
    "\n",
    "Collect a sample of at least 1 million characters from Wikipedia using the `wikipedia` module."
   ]
  },
  {
   "cell_type": "code",
   "execution_count": null,
   "metadata": {
    "collapsed": true
   },
   "outputs": [],
   "source": [
    "# lorem ipsum sample text\n",
    "# import loremipsum as lorem\n",
    "\n",
    "\n",
    "# text = ''\n",
    "# while len(text) < 1000000:\n",
    "#     text += lorem.get_paragraph()\n"
   ]
  },
  {
   "cell_type": "code",
   "execution_count": null,
   "metadata": {
    "collapsed": true
   },
   "outputs": [],
   "source": [
    "# some english sample text\n",
    "# text = (\"Chapter One A Stop on the Salt Route 1000 B.C. As they rounded a bend in the path that ran beside the river, Lara recognized the silhouette of a fig tree atop a nearby hill. The weather was hot and the days were long. The fig tree was in full leaf, but not yet bearing fruit. Soon Lara spotted other landmarks—an outcropping of limestone beside the path that had a silhouette like a man’s face, a marshy spot beside the river where the waterfowl were easily startled, a tall tree that looked like a man with his arms upraised. They were drawing near to the place where there was an island in the river. The island was a good spot to make camp. They would sleep on the island tonight. Lara had been back and forth along the river path many times in her short life. Her people had not created the path—it had always been there, like the river—but their deerskin-shod feet and the wooden wheels of their handcarts kept the path well worn. Lara’s people were salt traders, and their livelihood took them on a continual journey. At the mouth of the river, the little group of half a dozen intermingled families gathered salt from the great salt beds beside the sea. They groomed and sifted the salt and loaded it into handcarts. When the carts were full, most of the group would stay behind, taking shelter amid rocks and simple lean-tos, while a band of fifteen or so of the heartier members set out on the path that ran alongside the river. With their precious cargo of salt, the travelers crossed the coastal lowlands and traveled toward the mountains. But Lara’s people never reached the mountaintops; they traveled only as far as the foothills. Many people lived in the forests and grassy meadows of the foothills, gathered in small villages. In return for salt, these people would give Lara’s people dried meat, animal skins, cloth spun from wool, clay pots, needles and scraping tools carved from bone, and little toys made of wood. Their bartering done, Lara and her people would travel back down the river path to the sea. The cycle would begin again. It had always been like this. Lara knew no other life. She traveled back and forth, up and down the river path. No single place was home. She liked the seaside, where there was always fish to eat, and the gentle lapping of the waves lulled her to sleep at night. She was less fond of the foothills, where the path grew steep, the nights could be cold, and views of great distances made her dizzy. She felt uneasy in the villages, and was often shy around strangers. The path itself was where she felt most at home. She loved the smell of the river on a hot day, and the croaking of frogs at night. Vines grew amid the lush foliage along the river, with berries that were good to eat. Even on the hottest day, sundown brought a cool breeze off the water, which sighed and sang amid the reeds and tall grasses. Of all the places along the path, the area they were approaching, with the island in the river, was Lara’s favorite. The terrain along this stretch of the river was mostly flat, but in the immediate vicinity of the island, the land on the sunrise side was like a rumpled cloth, with hills and ridges and valleys. Among Lara’s people, there was a wooden baby’s crib, suitable for strapping to a cart, that had been passed down for generations. The island was shaped like that crib, longer than it was wide and pointed at the upriver end, where the flow had eroded both banks. The island was like a crib, and the group of hills on the sunrise side of the river were like old women mantled in heavy cloaks gathered to have a look at the baby in the crib—that was how Lara’s father had once described the lay of the land. Larth spoke like that all the time, conjuring images of giants and monsters in the landscape. He could perceive the spirits, called numina, that dwelled in rocks and trees. Sometimes he could speak to them and hear what they had to say. The river was his oldest friend and told him where the fishing would be best. From whispers in the wind he could foretell the next day’s weather. Because of such skills, Larth was the leader of the group. “We’re close to the island, aren’t we, Papa?” said Lara. “How did you know?” “The hills. First we start to see the hills, off to the right. The hills grow bigger. And just before we come to the island, we can see the silhouette of that fig tree up there, along the crest of that hill.” “Good girl!” said Larth, proud of his daughter’s memory and powers of observation. He was a strong, handsome man with flecks of gray in his black beard. His wife had borne several children, but all had died very young except Lara, the last, whom his wife had died bearing. Lara was very precious to him. Like her mother, she had golden hair. Now that she had reached the age of childbearing, Lara was beginning to display the fullness of a woman’s hips and breasts. It was Larth’s greatest wish that he might live to see his own grandchildren. Not every man lived that long, but Larth was hopeful. He had been healthy all his life, partly, he believed, because he had always been careful to show respect to the numina he encountered on his journeys. Respecting the numina was important. The numen of the river could suck a man under and drown him. The numen of a tree could trip a man with its roots, or drop a rotten branch on his head. Rocks could give way underfoot, chuckling with amusement at their own treachery. Even the sky, with a roar of fury, sometimes sent down fingers of fire that could roast a man like a rabbit on a spit, or worse, leave him alive but robbed of his senses. Larth had heard that the earth itself could open and swallow a man; though he had never actually seen such a thing, he nevertheless performed a ritual each morning, asking the earth’s permission before he went striding across it. “There’s something so special about this place,” said Lara, gazing at the sparkling river to her left and then at the rocky, tree-spotted hills ahead and to her right. “How was it made? Who made it?” Larth frowned. The question made no sense to him. A place was never made, it simply was. Small features might change over time. Uprooted by a storm, a tree might fall into the river. A boulder might decide to tumble down the hillside. The numina that animated all things went about reshaping the landscape from day to day, but the essential things never changed, and had always existed: the river, the hills, the sky, the sun, the sea, the salt beds at the mouth of the river. He was trying to think of some way to express these thoughts to Lara, when a deer, drinking at the river, was startled by their approach. The deer bolted up the brushy bank and onto the path. Instead of running to safety, the creature stood and stared at them. As clearly as if the animal had whispered aloud, Larth heard the words “Eat me.” The deer was offering herself. Larth turned to shout an order, but the most skilled hunter of the group, a youth called Po, was already in motion. Po ran forward, raised the sharpened stick he always carried and hurled it whistling through the air between Larth and Lara. A heartbeat later, the spear struck the deer’s breast with such force that the creature was knocked to the ground. Unable to rise, she thrashed her neck and flailed her long, slender legs. Po ran past Larth and Lara. When he reached the deer, he pulled the spear free and stabbed the creature again. The deer released a stifled noise, like a gasp, and stopped moving. There was a cheer from the group. Instead of yet another dinner of fish from the river, tonight there would be venison. The distance from the riverbank to the island was not great, but at this time of year—early summer—the river was too high to wade across. Lara’s people had long ago made simple rafts of branches lashed together with leather thongs, which they left on the riverbanks, repairing and replacing them as needed. When they last passed this way, there had been three rafts, all in good condition, left on the east bank. Two of the rafts were still there, but one was missing. “I see it! There—pulled up on the bank of the island, almost hidden among those leaves,” said Po, whose eyes were sharp. “Someone must have used it to cross over.” “Perhaps they’re still on the island,” said Larth. He did not begrudge others the use of the rafts, and the island was large enough to share. Nonetheless, the situation required caution. He cupped his hands to his mouth and gave a shout. It was not long before a man appeared on the bank of the island. The man waved. “Do we know him?” said Larth, squinting. “I don’t think so,” said Po. “He’s young—my age or younger, I’d say. He looks strong.” “Very strong!” said Lara. Even from this distance, the young stranger’s brawniness was impressive. He wore a short tunic without sleeves, and Lara had never seen such arms on a man. Po, who was small and wiry, looked at Lara sidelong and frowned. “I’m not sure I like the look of this stranger.” “Why not?” said Lara. “He’s smiling at us.” In fact, the young man was smiling at Lara, and Lara alone. His name was Tarketios. Much more than that, Larth could not tell, for the stranger spoke a language which Larth did not recognize, in which each word seemed as long and convoluted as the man’s name. Understanding the deer had been easier than understanding the strange noises uttered by this man and his two companions! Even so, they seemed friendly, and the three of them presented no threat to the more numerous salt traders. Tarketios and his two older companions were skilled metalworkers from a region some two hundred miles to the north, where the hills were rich with iron, copper, and lead. They had been on a trading journey to the south and were returning home. Just as the river path carried Larth’s people from the seashore to the hills, so another path, perpendicular to the river, traversed the long coastal plain. Because the island provided an easy place to ford the river, it was here that the two paths intersected. On this occasion, the salt traders and the metal traders happened to arrive at the island on the same day. Now they met for the first time. The two groups made separate camps at opposite ends of the island. As a gesture of friendship, speaking with his hands, Larth invited Tarketios and the others to share the venison that night. As the hosts and their guests feasted around the roasting fire, Tarketios tried to explain something of his craft. Firelight glittered in Lara’s eyes as she watched Tarketios point at the flames and mime the act of hammering. Firelight danced across the flexing muscles of his arms and shoulders. When he smiled at her, his grin was like a boast. She had never seen teeth so white and so perfect. Po saw the looks the two exchanged and frowned. Lara’s father saw the same looks and smiled. The meal was over. The metal traders, after many gestures of gratitude for the venison, withdrew to their camp at the far side of the island. Before he disappeared into the shadows, Tarketios looked over his shoulder and gave Lara a parting grin. While the others settled down to sleep, Larth stayed awake a while longer, as was his habit. He liked to watch the fire. Like all other things, fire possessed a numen that sometimes communicated with him, showing him visions. As the last of the embers faded into darkness, Larth fell asleep. Larth blinked. The flames, which had dwindled to almost nothing, suddenly shot up again. Hot air rushed over his face. His eyes were seared by white flames brighter than the sun. Amid the dazzling brightness, he perceived a thing that levitated above the flames. It was a masculine member, disembodied but nonetheless rampant and upright. It bore wings, like a bird, and hovered in midair. Though it seemed to be made of flesh, it was impervious to the flames. Larth had seen the winged phallus before, always in such circumstances, when he stared at a fire and entered a dream state. He had even given it a name, or more precisely, the thing had planted its name in his mind: Fascinus. Fascinus was not like the numina that animated trees, stones, or rivers. Those numina existed without names. Each was bound to the object in which it resided, and there was little to differentiate one from another. When such numina spoke, they could not always be trusted. Sometimes they were friendly, but at other times they were mischievous or even hostile. Fascinus was different. It was unique. It existed in and of itself, without beginning or end. Clearly, from its form, it had something to do with life and the origin of life, yet it seemed to come from a place beyond this world, slipping for a few moments through a breach opened by the heat of the dancing flames. An appearance by Fascinus was always significant. The winged phallus never appeared without giving Larth an answer to a dilemma that had been troubling him, or planting an important new thought in his mind. The guidance given to him by Fascinus had never led Larth astray. Elsewhere, in distant lands—Greece, Israel, Egypt—men and women worshiped gods and goddesses. Those people made images of their gods, told stories about them, and worshiped them in temples. Larth had never met such people. He had never even heard of the lands where they lived, and he had never encountered or conceived of a god. The very concept of a deity such as those other men worshiped was unknown to Larth, but the closest thing to a god in his imagination and experience was Fascinus. With a start, he blinked again. The flames had died. In place of intolerable brightness there was only the darkness of a warm summer night lit by the faintest sliver of a moon. The air on his face was no longer hot but fresh and cool. Fascinus had vanished—but not without planting a thought in Larth’s mind. He hurried to the leafy bower beside the river where Lara liked to sleep, thinking to himself, It must be made so, because Fascinus says it must! He knelt beside her, but there was no need to wake her. She was already awake. “Papa? What is it?” “Go to him!” She did not need to ask for an explanation. It was what she had been yearning to do, lying restless and eager in the dark. “Are you sure, Papa?” “Fascinus . . . ,” He did not finish the thought, but she understood. She had never seen Fascinus, but he had told her about it. Many times in the past, Fascinus had given guidance to her father. Now, once again, Fascinus had made its will known. The darkness did not deter her. She knew every twist and turn of every path on the little island. When she came to the metal trader’s camp, she found Tarketios lying in a leafy nook secluded from the others; she recognized him by his brawny silhouette. He was awake and waiting, just as she had been lying awake, waiting, when her father came to her. At her approach, Tarketios rose onto his elbows. He spoke her name in a whisper. There was a quiver of something like desperation in his voice; his neediness made her smile. She sighed and lowered herself beside him. By the faint moonlight, she saw that he wore an amulet of some sort, suspended from a strap of leather around his neck. Nestled amid the hair on his chest, the bit of shapeless metal seemed to capture and concentrate the faint moonlight, casting back a radiance brighter than the moon itself. His arms—the arms she had so admired earlier—reached out and closed around her in a surprisingly gentle embrace. His body was as warm and naked as her own, but much bigger and much harder. She wondered if Fascinus was with them in the darkness, for she seemed to feel the beating of wings between their legs as she was entered by the thing that gave origin to life\")"
   ]
  },
  {
   "cell_type": "code",
   "execution_count": null,
   "metadata": {
    "collapsed": true
   },
   "outputs": [],
   "source": [
    "# wikipedia sample text\n",
    "import wikipedia as wiki\n",
    "\n",
    "\n",
    "text = 'init'\n",
    "while len(text) < 100000:\n",
    "    page = wiki.random()\n",
    "    try:\n",
    "        cont = wiki.page(page).content\n",
    "    except wiki.DisambiguationError as e:\n",
    "        try:\n",
    "            cont = wiki.page(e.options[0]).content\n",
    "        except wiki.WikipediaException:\n",
    "            continue\n",
    "    text += cont\n",
    "    print(page + ': ', len(text))\n"
   ]
  },
  {
   "cell_type": "code",
   "execution_count": null,
   "metadata": {
    "collapsed": true
   },
   "outputs": [],
   "source": [
    "freqs = count_ngram_freqs(text, 4)\n",
    "gen = generate_text('This text is about', 200, freqs, 4)\n",
    "print(gen)"
   ]
  },
  {
   "cell_type": "markdown",
   "metadata": {},
   "source": [
    "## \\*3.4 Smoothing (20 points)\n",
    "\n",
    "Implement one or more smoothing methods such as Jelinek-Mercer smoothing or Katz's backoff.\n",
    "\n",
    "https://nlp.stanford.edu/~wcmac/papers/20050421-smoothing-tutorial.pdf"
   ]
  },
  {
   "cell_type": "code",
   "execution_count": null,
   "metadata": {
    "collapsed": true
   },
   "outputs": [],
   "source": []
  }
 ],
 "metadata": {
  "kernelspec": {
   "display_name": "Python 3",
   "language": "python",
   "name": "python3"
  },
  "language_info": {
   "codemirror_mode": {
    "name": "ipython",
    "version": 3
   },
   "file_extension": ".py",
   "mimetype": "text/x-python",
   "name": "python",
   "nbconvert_exporter": "python",
   "pygments_lexer": "ipython3",
   "version": "3.5.2"
  }
 },
 "nbformat": 4,
 "nbformat_minor": 2
}
