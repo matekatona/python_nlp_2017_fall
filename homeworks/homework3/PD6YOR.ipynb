{
 "cells": [
  {
   "cell_type": "markdown",
   "metadata": {
    "deletable": true,
    "editable": true
   },
   "source": [
    "# Katona Máté (PD6YOR)\n",
    "\n",
    "# Homework 3\n",
    "\n",
    "The maximum score of this homework is 100+20 points. Grading is listed in this table:\n",
    "\n",
    "| Grade | Score range |\n",
    "| --- | --- |\n",
    "| 5 | 85+ |\n",
    "| 4 | 70-84 |\n",
    "| 3 | 55-69 |\n",
    "| 2 | 40-54 |\n",
    "| 1 | 0-39 |\n",
    "\n",
    "Most exercises include tests which should pass if your solution is correct.\n",
    "However, successful tests do not guarantee that your solution is correct.\n",
    "You are free to add more tests."
   ]
  },
  {
   "cell_type": "markdown",
   "metadata": {
    "deletable": true,
    "editable": true
   },
   "source": [
    "## Deadline\n",
    "\n",
    "Monday, 11 December 2017, 23:59"
   ]
  },
  {
   "cell_type": "markdown",
   "metadata": {
    "deletable": true,
    "editable": true
   },
   "source": [
    "## Boilerplate\n",
    "\n",
    "Feel free to copy any boilerplate code you need from labs [9](../../course_material/09_Morphology_lab/09_Morphology_lab.ipynb#Morphology) and [10](../../course_material/10_Syntax/10_Syntax_lab.ipynb#Boilerplate)."
   ]
  },
  {
   "cell_type": "code",
   "execution_count": 1,
   "metadata": {
    "collapsed": true,
    "deletable": true,
    "editable": true
   },
   "outputs": [],
   "source": [
    "# Utility functions\n",
    "from functools import partial\n",
    "import os\n",
    "import subprocess\n",
    "import tempfile\n",
    "\n",
    "from IPython.display import display, Image\n",
    "\n",
    "def execute_commands(*cmds, fancy=True):\n",
    "    \"\"\"\n",
    "    Starts foma end executes the specified commands.\n",
    "    Might not work if there are too many...\n",
    "    \"\"\"\n",
    "    if fancy:\n",
    "        print('Executing commands...\\n=====================\\n')\n",
    "    args = ' '.join('-e \"{}\"'.format(cmd) for cmd in cmds)\n",
    "    output = subprocess.check_output('foma {} -s'.format(args),\n",
    "                                     stderr=subprocess.STDOUT,\n",
    "                                     shell=True).decode('utf-8')\n",
    "    print(output)\n",
    "    if fancy:\n",
    "        print('=====================\\n')\n",
    "    \n",
    "def compile_lexc(lexc_string, fst_file):\n",
    "    \"\"\"\n",
    "    Compiles a string describing a lexc lexicon with foma. The FST\n",
    "    is written to fst_file.\n",
    "    \"\"\"\n",
    "    with tempfile.NamedTemporaryFile(mode='wt', encoding='utf-8', delete=False) as outf:\n",
    "            outf.write(lexc_string)\n",
    "    try:\n",
    "        execute_commands('read lexc {}'.format(outf.name),\n",
    "                         'save stack {}'.format(fst_file), fancy=False)\n",
    "        #!foma -e \"read lexc {outf.name}\" -e \"save stack {fst_file}\" -s\n",
    "    finally:\n",
    "        os.remove(outf.name)\n",
    "        \n",
    "def apply(fst_file, words, up=True):\n",
    "    \"\"\"\n",
    "    Applies the FST in fst_file on the supplied words. The default direction\n",
    "    is up.\n",
    "    \"\"\"\n",
    "    if isinstance(words, list):\n",
    "        words = '\\n'.join(map(str, words))\n",
    "    elif not isinstance(words, str):\n",
    "        raise ValueError('words must be a str or list')\n",
    "    header = 'Applying {} {}...'.format(fst_file, 'up' if up else 'down')\n",
    "    print('{}\\n{}\\n'.format(header, '=' * len(header)))\n",
    "    invert = '-i' if not up else ''\n",
    "    result = subprocess.check_output('flookup {} {}'.format(invert, fst_file),\n",
    "                                     stderr=subprocess.STDOUT, shell=True,\n",
    "                                     input=words.encode('utf-8'))\n",
    "    print(result.decode('utf-8')[:-1])  # Skip last newline\n",
    "    print('=' * len(header), '\\n')\n",
    "       \n",
    "apply_up = partial(apply, up=True)\n",
    "apply_down = partial(apply, up=False)\n",
    "\n",
    "def draw_net(fst_file, inline=True):\n",
    "    \"\"\"\n",
    "    Displays a compiled network inline or in a separate window.\n",
    "    The package imagemagic must be installed for this function to work.\n",
    "    \"\"\"\n",
    "    !foma -e \"load stack {fst_file}\" -e \"print dot >{fst_file}.dot\" -s\n",
    "    if inline:\n",
    "        png_data = subprocess.check_output(\n",
    "            'cat {}.dot | dot -Tpng'.format(fst_file), shell=True)\n",
    "        display(Image(data=png_data, format='png'))\n",
    "    else:\n",
    "        !cat {fst_file}.dot | dot -Tpng | display\n",
    "    !rm {fst_file}.dot"
   ]
  },
  {
   "cell_type": "code",
   "execution_count": 2,
   "metadata": {
    "collapsed": true,
    "deletable": true,
    "editable": true
   },
   "outputs": [],
   "source": [
    "import graphviz\n",
    "import nltk\n",
    "from nltk import Nonterminal\n",
    "from nltk.parse.generate import generate\n",
    "from nltk.tree import Tree\n",
    "\n",
    "def does_tcl_work():\n",
    "    \"\"\"Checks if Tcl is installed and works (e.g. it won't on a headless server).\"\"\"\n",
    "    tree = nltk.tree.Tree('test', [])\n",
    "    try:\n",
    "        tree._repr_png_()\n",
    "        return True\n",
    "    except:\n",
    "        return False\n",
    "\n",
    "def draw_tree(tree):\n",
    "    \"\"\"Draws an NLTK parse tree via Graphviz.\"\"\"\n",
    "    def draw_tree_rec(curr_root, graph, last_node):\n",
    "        node_id = str(int(last_node) + 1)\n",
    "        for child in curr_root:\n",
    "            if isinstance(child, nltk.tree.Tree):\n",
    "                graph.node(node_id, child.label(), penwidth='0')\n",
    "                graph.edge(last_node, node_id, color='darkslategray3', style='bold')\n",
    "                node_id = draw_tree_rec(child, graph, node_id)\n",
    "            else:\n",
    "                graph.node(node_id, child, penwidth='0')\n",
    "                graph.edge(last_node, node_id, color='darkslategray3', style='bold')\n",
    "                node_id = str(int(node_id) + 1)\n",
    "        return str(int(node_id) + 1)\n",
    "    \n",
    "    graph = graphviz.Graph()\n",
    "    graph.graph_attr['ranksep'] = '0.2'\n",
    "    graph.node('0', tree.label(), penwidth='0')\n",
    "    draw_tree_rec(tree, graph, '0')\n",
    "    return graph._repr_svg_()\n",
    "\n",
    "# Use Graphviz to draw the tree if the Tcl backend of nltk doesn't work\n",
    "if not does_tcl_work():\n",
    "    svg_formatter = get_ipython().display_formatter.formatters['image/svg+xml']\n",
    "    svg_formatter.for_type(nltk.tree.Tree, draw_tree)\n",
    "    # Delete the nltk drawing function, just to be sure\n",
    "    delattr(Tree, '_repr_png_')"
   ]
  },
  {
   "cell_type": "markdown",
   "metadata": {
    "deletable": true,
    "editable": true
   },
   "source": [
    "# Exercise 1: Morphology (45 points)\n",
    "\n",
    "\n",
    "## 1.1 Extend the lexc grammar (20 points)\n",
    "\n",
    "This exercise assumes that you have finished the lexc lab exercises. The grammar you hand in have to handle the adjectives listed in the lab exercises, as well as the number (singular / plural), the nominative and accusative cases, comparative and superlative forms, and vowel harmony.\n",
    "\n",
    "There are two sub-tasks to this exercise. You can download them from\n",
    "1. http://sandbox.mokk.bme.hu/~ndavid/homework3/{NEPTUN_CODE}/homework3_1_1_1.ipynb\n",
    "1. http://sandbox.mokk.bme.hu/~ndavid/homework3/{NEPTUN_CODE}/homework3_1_1_2.ipynb\n",
    "\n",
    "(Note: all letters in the Neptun code must be capitalized.)\n",
    "\n",
    "Please don't solve the exercises in the downloaded notebooks, but copy the descriptions and starter code snippets to the cells below."
   ]
  },
  {
   "cell_type": "markdown",
   "metadata": {
    "deletable": true,
    "editable": true
   },
   "source": [
    "### 1.1.1 Nouns\n",
    "\n",
    "Extend the grammar with nouns ending with a vowel.\n",
    "\n",
    "For the first group, the declension requires modification of the root: _**a**_ becomes _**á**_ and _**e**_ becomes _**é**_. For both groups, the linking vowel is the same as for adjectives.\n",
    "\n",
    "Examples:\n",
    "- _kutya_ + `[Pl]` $\\rightarrow$ _kuty**á**k_\n",
    "- _kutya_ + `[Acc]` $\\rightarrow$ _kuty**á**t_\n",
    "- _kutya_ + `[Pl]` + `[Acc]` $\\rightarrow$ _kuty**á**k**a**t_\n",
    "\n",
    "Hint: handle the inflected forms first and then find a shortcut for the `[Nom]` case."
   ]
  },
  {
   "cell_type": "code",
   "execution_count": 3,
   "metadata": {
    "collapsed": true,
    "deletable": true,
    "editable": true
   },
   "outputs": [],
   "source": [
    "nouns_1 = \"\"\"\n",
    "kutya ! dog\n",
    "szalma ! straw\n",
    "utca ! street\n",
    "nénike ! little old lady\n",
    "öntöde ! foundry\n",
    "pecsenye ! roast\n",
    "\"\"\"\n",
    "\n",
    "nouns_2 = \"\"\"\n",
    "néni ! old lady\n",
    "tű ! needle\n",
    "randevú ! date (back)\n",
    "szajré ! swag (inf, back)\n",
    "jeti ! yeti\n",
    "faodú ! tree hollow (back)\n",
    "\"\"\""
   ]
  },
  {
   "cell_type": "code",
   "execution_count": 4,
   "metadata": {
    "collapsed": false,
    "deletable": true,
    "editable": true
   },
   "outputs": [
    {
     "name": "stdout",
     "output_type": "stream",
     "text": [
      "Root...2, nouns...4, fnouns...3, bnouns...3, fnouns_mod...3, bnouns_mod...3, mod...4, noun_tag...2, ex...2, sup...2, adjs...2, fadjs...9, badjs...8, adj_tag...1, comp...3, comp_tag...3, plur...4, plur_tag...1, case...4, case_tag...Building lexicon...\n",
      "1\n",
      "Determinizing...\n",
      "Minimizing...\n",
      "Done!\n",
      "4.8 kB. 151 states, 199 arcs, Cyclic.\n",
      "Writing to file nouns.fst.\n",
      "\n"
     ]
    }
   ],
   "source": [
    "grammar = \"\"\"\n",
    "Multichar_Symbols \n",
    "    [Ex] [Sup] [Adj] [Cmp] [Pl] [Acc] [Nn]\n",
    "    @U.HARM.F@ @U.HARM.B@  ! harmony\n",
    "    @P.EX.T@ @R.EX@ @D.EX@  ! exaggarative \n",
    "    @P.SUP.T@ @R.SUP@ @D.SUP@  ! superlative\n",
    "    @P.VOW.T@ @R.VOW@ @D.VOW@ @C.VOW@  ! vowel ending\n",
    "    @P.MOD.T@ @P.MOD.F@ @R.MOD.T@ @R.MOD.F@ @D.MOD.T@ @D.MOD.F@ @C.MOD@  ! root modification\n",
    "\n",
    "LEXICON Root\n",
    "    @P.VOW.T@     nouns ;  ! in this example, all nouns end with a vowel\n",
    "                  ex    ;  ! will continue to adjs\n",
    "\n",
    "LEXICON nouns\n",
    "    @U.HARM.B@    bnouns     ;\n",
    "    @U.HARM.B@    bnouns_mod ;\n",
    "    @U.HARM.F@    fnouns     ;\n",
    "    @U.HARM.F@    fnouns_mod ;\n",
    "\n",
    "LEXICON fnouns\n",
    "    néni          noun_tag ;\n",
    "    tű            noun_tag ;\n",
    "    jeti          noun_tag ;\n",
    "\n",
    "LEXICON bnouns\n",
    "    randevú       noun_tag ;\n",
    "    szajré        noun_tag ;\n",
    "    faodú         noun_tag ;\n",
    "\n",
    "LEXICON fnouns_mod\n",
    "    nénik         mod ;\n",
    "    öntöd         mod ;\n",
    "    pecseny       mod ;\n",
    "\n",
    "LEXICON bnouns_mod\n",
    "    kuty          mod ;\n",
    "    szalm         mod ;\n",
    "    utc           mod ;\n",
    "\n",
    "LEXICON mod\n",
    "    @U.HARM.B@@P.MOD.F@a noun_tag ;\n",
    "    @U.HARM.B@@P.MOD.T@á noun_tag ;\n",
    "    @U.HARM.F@@P.MOD.F@e noun_tag ;\n",
    "    @U.HARM.F@@P.MOD.T@é noun_tag ;\n",
    "\n",
    "LEXICON noun_tag \n",
    "    @R.MOD.F@[Nn]:@R.MOD.F@0 # ;  ! only non-modified stems (MOD.F) can stop\n",
    "    @D.MOD.F@[Nn]:@D.MOD.F@0 plur ;\n",
    "\n",
    "LEXICON ex\n",
    "    @P.EX.T@leges ex  ;\n",
    "                  sup ;\n",
    "\n",
    "LEXICON sup\n",
    "    @P.SUP.T@leg  adjs ;\n",
    "    @D.EX@        adjs ;\n",
    "\n",
    "LEXICON adjs\n",
    "    @U.HARM.F@    fadjs ;\n",
    "    @U.HARM.B@    badjs ;\n",
    "\n",
    "LEXICON fadjs\n",
    "    csendes       adj_tag ;\n",
    "    egészséges    adj_tag ;\n",
    "    idős          adj_tag ;\n",
    "    kék           adj_tag ;\n",
    "    mély          adj_tag ;\n",
    "    öntelt        adj_tag ;\n",
    "    szeles        adj_tag ;\n",
    "    terhes        adj_tag ;\n",
    "    zsémbes       adj_tag ;\n",
    "\n",
    "LEXICON badjs\n",
    "    abszurd       adj_tag ;\n",
    "    bájos         adj_tag ;\n",
    "    finom         adj_tag ;\n",
    "    gyanús        adj_tag ;\n",
    "    okos          adj_tag ;\n",
    "    piros         adj_tag ;\n",
    "    száraz        adj_tag ;\n",
    "    zord          adj_tag ;\n",
    "\n",
    "LEXICON adj_tag\n",
    "    [Adj]:0       comp ;\n",
    "\n",
    "LEXICON comp \n",
    "    @D.SUP@       plur;\n",
    "    @U.HARM.F@ebb comp_tag ;\n",
    "    @U.HARM.B@abb comp_tag ;\n",
    "\n",
    "LEXICON comp_tag\n",
    "    @R.EX@[Ex]:@R.EX@0                 plur ; ! could require SUP as well, but it's redundant\n",
    "    @D.EX@@R.SUP@[Sup]:@D.EX@@R.SUP@0  plur ;\n",
    "    @D.EX@@D.SUP@[Cmp]:@D.EX@@D.SUP@0  plur ;\n",
    "\n",
    "LEXICON plur\n",
    "                                       case ;\n",
    "    @R.VOW@@C.VOW@@C.MOD@k             plur_tag ;  ! only with vowel-ending words, but overrides both vowel-ending (C.VOW) and modified stem (C.MOD)\n",
    "    @D.VOW@@U.HARM.F@ek                plur_tag ;\n",
    "    @D.VOW@@U.HARM.B@ak                plur_tag ;\n",
    "\n",
    "LEXICON plur_tag\n",
    "    [Pl]:0        case ;\n",
    "\n",
    "LEXICON case\n",
    "    @D.MOD.T@            # ;  ! modified stems are not allowed to stop\n",
    "    @R.VOW@@C.VOW@t      case_tag ;\n",
    "    @D.VOW@@U.HARM.F@et  case_tag ;\n",
    "    @D.VOW@@U.HARM.B@at  case_tag ;\n",
    "\n",
    "LEXICON case_tag\n",
    "    [Acc]:0       # ;\n",
    "\"\"\"\n",
    "\n",
    "compile_lexc(grammar, 'nouns.fst')"
   ]
  },
  {
   "cell_type": "markdown",
   "metadata": {
    "deletable": true,
    "editable": true
   },
   "source": [
    "<span style=\"color:green\">The tags don't match those returned by HFST. (no `[/Supl]`, `[Sup]`/`[Ex]`/`[Cmp]` instead of `[_Comp/Adj]`, etc). It's a shame, because it's a nice solution otherwise.</span>"
   ]
  },
  {
   "cell_type": "code",
   "execution_count": 5,
   "metadata": {
    "collapsed": false,
    "deletable": true,
    "editable": true
   },
   "outputs": [
    {
     "name": "stdout",
     "output_type": "stream",
     "text": [
      "Applying nouns.fst up...\n",
      "========================\n",
      "\n",
      "nénikét\tnéniké[Nn]t[Acc]\n",
      "\n",
      "pecsenyék\tpecsenyé[Nn]k[Pl]\n",
      "\n",
      "tűket\ttű[Nn]k[Pl]et[Acc]\n",
      "\n",
      "faodú\tfaodú[Nn]\n",
      "\n",
      "legeslegeslegszárazabbakat\tlegeslegeslegszáraz[Adj]abb[Ex]ak[Pl]at[Acc]\n",
      "\n",
      "======================== \n",
      "\n",
      "Executing commands...\n",
      "=====================\n",
      "\n",
      "4.8 kB. 151 states, 199 arcs, Cyclic.\n",
      "kutyát\n",
      "kutyákat\n",
      "kutyák\n",
      "kutya\n",
      "randevút\n",
      "randevúkat\n",
      "randevúk\n",
      "randevú\n",
      "utcát\n",
      "utcákat\n",
      "utcák\n",
      "utca\n",
      "szajrét\n",
      "szajrékat\n",
      "szajrék\n",
      "szajré\n",
      "szalmát\n",
      "szalmákat\n",
      "szalmák\n",
      "szalma\n",
      "faodút\n",
      "faodúkat\n",
      "faodúk\n",
      "faodú\n",
      "tűt\n",
      "tűket\n",
      "tűk\n",
      "tű\n",
      "nénikét\n",
      "nénikéket\n",
      "nénikék\n",
      "nénike\n",
      "nénit\n",
      "néniket\n",
      "nénik\n",
      "néni\n",
      "jetit\n",
      "jetiket\n",
      "jetik\n",
      "jeti\n",
      "pecsenyét\n",
      "pecsenyéket\n",
      "pecsenyék\n",
      "pecsenye\n",
      "öntödét\n",
      "öntödéket\n",
      "öntödék\n",
      "öntöde\n",
      "abszurdabbat\n",
      "abszurdabbakat\n",
      "abszurdabbak\n",
      "abszurdabb\n",
      "abszurdat\n",
      "abszurdakat\n",
      "abszurdak\n",
      "abszurd\n",
      "bájosabbat\n",
      "bájosabbakat\n",
      "bájosabbak\n",
      "bájosabb\n",
      "bájosat\n",
      "bájosakat\n",
      "bájosak\n",
      "bájos\n",
      "okosabbat\n",
      "okosabbakat\n",
      "okosabbak\n",
      "okosabb\n",
      "okosat\n",
      "okosakat\n",
      "okosak\n",
      "okos\n",
      "zordabbat\n",
      "zordabbakat\n",
      "zordabbak\n",
      "zordabb\n",
      "zordat\n",
      "zordakat\n",
      "zordak\n",
      "zord\n",
      "szárazabbat\n",
      "szárazabbakat\n",
      "szárazabbak\n",
      "szárazabb\n",
      "szárazat\n",
      "szárazakat\n",
      "szárazak\n",
      "száraz\n",
      "gyanúsabbat\n",
      "gyanúsabbakat\n",
      "gyanúsabbak\n",
      "gyanúsabb\n",
      "gyanúsat\n",
      "gyanúsakat\n",
      "gyanúsak\n",
      "gyanús\n",
      "pirosabbat\n",
      "pirosabbakat\n",
      "pirosabbak\n",
      "pirosabb\n",
      "\n",
      "=====================\n",
      "\n"
     ]
    }
   ],
   "source": [
    "# draw_net('nouns.fst')\n",
    "apply_up('nouns.fst', ['nénikét', 'pecsenyék', 'tűket', 'faodú', 'legeslegeslegszárazabbakat'])        \n",
    "execute_commands('load stack nouns.fst', 'print lower-words')"
   ]
  },
  {
   "cell_type": "markdown",
   "metadata": {
    "deletable": true,
    "editable": true
   },
   "source": [
    "### 1.1.2 The allative case\n",
    "\n",
    "Extend the grammar with the allative case. This case differs from accusative in two ways:\n",
    "- it never gets a linking vowel\n",
    "- it has three forms (_-hoz_ / _-hez_ / _-höz_). The first two are used for the words you would expect. The third one is used for words which takes front-vowel inflections, but whose last vowel is a _**ö**_ or _**ő**_ (yes, there is only one of those in the lab word lists).\n",
    "\n",
    "Examples:\n",
    "- _finom_ + `[All]` $\\rightarrow$ _finom**hoz**_\n",
    "- _mély_ + `[All]` $\\rightarrow$ _mély**hez**_\n",
    "- _idős_ + `[All]` $\\rightarrow$ _idős**höz**_\n",
    "\n",
    "Also add the following adjectives to the grammar."
   ]
  },
  {
   "cell_type": "code",
   "execution_count": 6,
   "metadata": {
    "collapsed": true,
    "deletable": true,
    "editable": true
   },
   "outputs": [],
   "source": [
    "adjectives = \"\"\"\n",
    "bűnös ! sinful\n",
    "ösztönös ! instinctive\n",
    "felnőtt ! adult\n",
    "dühös ! angry\n",
    "erős ! strong\n",
    "\"\"\""
   ]
  },
  {
   "cell_type": "code",
   "execution_count": 7,
   "metadata": {
    "collapsed": false,
    "deletable": true,
    "editable": true
   },
   "outputs": [
    {
     "name": "stdout",
     "output_type": "stream",
     "text": [
      "Root...1, ex...2, sup...2, adjs...3, fadjs...8, badjs...8, oadjs...6, adj_tag...1, comp...3, comp_tag...3, plur...3, plur_tag...1, case...6, acc_tag...1, all_tag...Building lexicon...\n",
      "1\n",
      "Determinizing...\n",
      "Minimizing...\n",
      "Done!\n",
      "4.1 kB. 125 states, 161 arcs, Cyclic.\n",
      "Writing to file allative.fst.\n",
      "\n"
     ]
    }
   ],
   "source": [
    "grammar = \"\"\"\n",
    "Multichar_Symbols \n",
    "    [Ex] [Sup] [Adj] [Cmp] [Pl] [Acc] [Nn]\n",
    "    @P.HARM.F@ @P.HARM.B@ @P.HARM.O@ @D.HARM.B@ @R.HARM.F@ @R.HARM.B@ @R.HARM.O@  ! harmony\n",
    "    @P.EX.T@ @R.EX@ @D.EX@  ! exaggarative\n",
    "    @P.SUP.T@ @R.SUP@ @D.SUP@  ! superlative\n",
    "\n",
    "LEXICON Root\n",
    "                  ex    ;  ! will continue to adjs\n",
    "\n",
    "LEXICON ex\n",
    "    @P.EX.T@leges ex  ;\n",
    "                  sup ;\n",
    "\n",
    "LEXICON sup\n",
    "    @P.SUP.T@leg  adjs ;\n",
    "    @D.EX@        adjs ;\n",
    "\n",
    "LEXICON adjs\n",
    "    @P.HARM.F@    fadjs ;\n",
    "    @P.HARM.B@    badjs ;\n",
    "    @P.HARM.O@    oadjs ;\n",
    "\n",
    "LEXICON fadjs\n",
    "    csendes       adj_tag ;\n",
    "    egészséges    adj_tag ;\n",
    "!    idős          adj_tag ;  ! moved to oeadjs\n",
    "    kék           adj_tag ;\n",
    "    mély          adj_tag ;\n",
    "    öntelt        adj_tag ;\n",
    "    szeles        adj_tag ;\n",
    "    terhes        adj_tag ;\n",
    "    zsémbes       adj_tag ;\n",
    "\n",
    "LEXICON badjs\n",
    "    abszurd       adj_tag ;\n",
    "    bájos         adj_tag ;\n",
    "    finom         adj_tag ;\n",
    "    gyanús        adj_tag ;\n",
    "    okos          adj_tag ;\n",
    "    piros         adj_tag ;\n",
    "    száraz        adj_tag ;\n",
    "    zord          adj_tag ;\n",
    "\n",
    "LEXICON oadjs\n",
    "    idős          adj_tag ;\n",
    "    bűnös         adj_tag ;\n",
    "    ösztönös      adj_tag ;\n",
    "    felnőtt       adj_tag ;\n",
    "    dühös         adj_tag ;\n",
    "    erős          adj_tag ;\n",
    "\n",
    "LEXICON adj_tag\n",
    "    [Adj]:0       comp ;\n",
    "\n",
    "LEXICON comp \n",
    "    @D.SUP@                 plur;\n",
    "    @D.HARM.B@@P.HARM.F@ebb comp_tag ;\n",
    "    @R.HARM.B@abb           comp_tag ;\n",
    "\n",
    "LEXICON comp_tag\n",
    "    @R.EX@[Ex]:@R.EX@0                 plur ; ! could require SUP as well, but it's redundant\n",
    "    @D.EX@@R.SUP@[Sup]:@D.EX@@R.SUP@0  plur ;\n",
    "    @D.EX@@D.SUP@[Cmp]:@D.EX@@D.SUP@0  plur ;\n",
    "\n",
    "LEXICON plur\n",
    "                                case ;\n",
    "    @D.HARM.B@@P.HARM.F@ek      plur_tag ;\n",
    "    @R.HARM.B@ak                plur_tag ;\n",
    "\n",
    "LEXICON plur_tag\n",
    "    [Pl]:0        case ;\n",
    "\n",
    "LEXICON case\n",
    "                   # ;\n",
    "    @R.HARM.F@hez  all_tag ;\n",
    "    @R.HARM.B@hoz  all_tag ;\n",
    "    @R.HARM.O@höz  all_tag ;\n",
    "    @D.HARM.B@et   acc_tag ;\n",
    "    @R.HARM.B@at   acc_tag ;\n",
    "\n",
    "LEXICON acc_tag\n",
    "    [Acc]:0       # ;\n",
    "\n",
    "LEXICON all_tag\n",
    "    [All]:0       # ;\n",
    "\"\"\"\n",
    "\n",
    "compile_lexc(grammar, 'allative.fst')"
   ]
  },
  {
   "cell_type": "code",
   "execution_count": 8,
   "metadata": {
    "collapsed": false,
    "deletable": true,
    "editable": true
   },
   "outputs": [
    {
     "name": "stdout",
     "output_type": "stream",
     "text": [
      "Applying allative.fst up...\n",
      "===========================\n",
      "\n",
      "erősebbekhez\terős[Adj]ebb[Cmp]ek[Pl]hez[All]\n",
      "\n",
      "erőshöz\terős[Adj]höz[All]\n",
      "\n",
      "legeslegeslegpirosabbhoz\tlegeslegeslegpiros[Adj]abb[Ex]hoz[All]\n",
      "\n",
      "kéket\tkék[Adj]et[Acc]\n",
      "\n",
      "=========================== \n",
      "\n",
      "Executing commands...\n",
      "=====================\n",
      "\n",
      "4.1 kB. 125 states, 161 arcs, Cyclic.\n",
      "terhesebb\n",
      "terhesebbet\n",
      "terhesebbek\n",
      "terhesebbeket\n",
      "terhesebbekhez\n",
      "terhesebbhez\n",
      "terhes\n",
      "terheset\n",
      "terhesek\n",
      "terheseket\n",
      "terhesekhez\n",
      "terheshez\n",
      "egészségesebb\n",
      "egészségesebbet\n",
      "egészségesebbek\n",
      "egészségesebbeket\n",
      "egészségesebbekhez\n",
      "egészségesebbhez\n",
      "egészséges\n",
      "egészségeset\n",
      "egészségesek\n",
      "egészségeseket\n",
      "egészségesekhez\n",
      "egészségeshez\n",
      "önteltebb\n",
      "önteltebbet\n",
      "önteltebbek\n",
      "önteltebbeket\n",
      "önteltebbekhez\n",
      "önteltebbhez\n",
      "öntelt\n",
      "önteltet\n",
      "önteltek\n",
      "öntelteket\n",
      "önteltekhez\n",
      "öntelthez\n",
      "zsémbesebb\n",
      "zsémbesebbet\n",
      "zsémbesebbek\n",
      "zsémbesebbeket\n",
      "zsémbesebbekhez\n",
      "zsémbesebbhez\n",
      "zsémbes\n",
      "zsémbeset\n",
      "zsémbesek\n",
      "zsémbeseket\n",
      "zsémbesekhez\n",
      "zsémbeshez\n",
      "kékebb\n",
      "kékebbet\n",
      "kékebbek\n",
      "kékebbeket\n",
      "kékebbekhez\n",
      "kékebbhez\n",
      "kék\n",
      "kéket\n",
      "kékek\n",
      "kékeket\n",
      "kékekhez\n",
      "kékhez\n",
      "szelesebb\n",
      "szelesebbet\n",
      "szelesebbek\n",
      "szelesebbeket\n",
      "szelesebbekhez\n",
      "szelesebbhez\n",
      "szeles\n",
      "szeleset\n",
      "szelesek\n",
      "szeleseket\n",
      "szelesekhez\n",
      "szeleshez\n",
      "mélyebb\n",
      "mélyebbet\n",
      "mélyebbek\n",
      "mélyebbeket\n",
      "mélyebbekhez\n",
      "mélyebbhez\n",
      "mély\n",
      "mélyet\n",
      "mélyek\n",
      "mélyeket\n",
      "mélyekhez\n",
      "mélyhez\n",
      "csendesebb\n",
      "csendesebbet\n",
      "csendesebbek\n",
      "csendesebbeket\n",
      "csendesebbekhez\n",
      "csendesebbhez\n",
      "csendes\n",
      "csendeset\n",
      "csendesek\n",
      "csendeseket\n",
      "csendesekhez\n",
      "csendeshez\n",
      "erősebb\n",
      "erősebbet\n",
      "erősebbek\n",
      "erősebbeket\n",
      "\n",
      "=====================\n",
      "\n"
     ]
    }
   ],
   "source": [
    "# draw_net('allative.fst')\n",
    "apply_up('allative.fst', ['erősebbekhez', 'erőshöz', 'legeslegeslegpirosabbhoz', 'kéket'])        \n",
    "execute_commands('load stack allative.fst', 'print lower-words')"
   ]
  },
  {
   "cell_type": "markdown",
   "metadata": {
    "deletable": true,
    "editable": true
   },
   "source": [
    "<span style=\"color:green\">Same as before. Those pesky tags!</span>"
   ]
  },
  {
   "cell_type": "markdown",
   "metadata": {
    "deletable": true,
    "editable": true
   },
   "source": [
    "## 1.2 CFG morphology (25 points)\n",
    "\n",
    "### 1.2.1 The basics (15 points)\n",
    "\n",
    "Implement morphological analysis with a CFG grammar. Requirements:\n",
    "- the grammar should handle everything we covered in the lab, except for vowel harmony\n",
    "- there is no need to handle generation; concentrate on parsing\n",
    "- it doesn't matter what the intermediate nonterminals are called. Ideally, _preterminals_ should be valid morphological tags, as in the example below; however, `nlkt.CFG.fromstring()` cannot parse tags such as `[Acc]` as nonterminals. You are free to call them whatever you wish, but descriptive names are encouraged.\n",
    "- encapsulate the functionality in a `CFGMorphParser` class:\n",
    "    - its `__init__()` should accept no parameters (or at least provide defaults)\n",
    "    - it should have a `parse_tree()` method, which accepts a word and returns the parse tree\n",
    "    - it should have a `parse()` method, which accepts a word and returns the morphological parse _in the same form as HFST_. Refer to `hfst_lookup` and the tests for the format. `nltk.tree.Tree.pos()` is a good starting point\n",
    "\n",
    "Note that having the same format as HFST doesn't mean you have to return the exact same output: for instance, we defined _terhes_ as a genuine adjective, even though it is derived from the noun _teher_. So HFST would analyze it as `teher[/N]es[_Adjz:s/Adj][Nom]`, but you only need to return `terhes[/Adj]`. You **also don't have to cover [Nom]**, because of [this bug](https://github.com/nltk/nltk/issues/1890)."
   ]
  },
  {
   "cell_type": "code",
   "execution_count": 3,
   "metadata": {
    "collapsed": false,
    "deletable": true,
    "editable": true
   },
   "outputs": [
    {
     "data": {
      "image/png": "[encoded data removed]",
      "text/plain": [
       "Tree('__NOM_1', [Tree('__NOM_2', [Tree('__SUPL_ADJ_2', [Tree('[Supl]', ['leg']), Tree('[/Adj]', ['nagy']), Tree('[_Comp/Adj]', ['obb'])]), Tree('[Pl]', ['ak'])]), Tree('[Acc]', ['at'])])"
      ]
     },
     "metadata": {},
     "output_type": "display_data"
    }
   ],
   "source": [
    "import nltk\n",
    "from nltk.tree import Tree\n",
    "\n",
    "tree = Tree('__NOM_1', [\n",
    "    Tree('__NOM_2', [\n",
    "        Tree('__SUPL_ADJ_2', [\n",
    "            Tree('[Supl]', ['leg']),\n",
    "            Tree('[/Adj]', ['nagy']),\n",
    "            Tree('[_Comp/Adj]', ['obb']),\n",
    "        ]),\n",
    "        Tree('[Pl]', ['ak']),\n",
    "    ]),\n",
    "    Tree('[Acc]', ['at']),\n",
    "])\n",
    "\n",
    "display(tree)\n",
    "# If display() doesn't work, try this\n",
    "# tree.pretty_print()"
   ]
  },
  {
   "cell_type": "code",
   "execution_count": 4,
   "metadata": {
    "collapsed": false,
    "deletable": true,
    "editable": true
   },
   "outputs": [
    {
     "ename": "AssertionError",
     "evalue": "",
     "output_type": "error",
     "traceback": [
      "\u001b[0;31m---------------------------------------------------------------------------\u001b[0m",
      "\u001b[0;31mAssertionError\u001b[0m                            Traceback (most recent call last)",
      "\u001b[0;32m<ipython-input-4-a2b3a474b577>\u001b[0m in \u001b[0;36m<module>\u001b[0;34m()\u001b[0m\n\u001b[1;32m     15\u001b[0m \u001b[0;34m\u001b[0m\u001b[0m\n\u001b[1;32m     16\u001b[0m \u001b[0;34m\u001b[0m\u001b[0m\n\u001b[0;32m---> 17\u001b[0;31m \u001b[0;32massert\u001b[0m \u001b[0mparser\u001b[0m\u001b[0;34m.\u001b[0m\u001b[0mparse\u001b[0m\u001b[0;34m(\u001b[0m\u001b[0;34m'unknown_word'\u001b[0m\u001b[0;34m)\u001b[0m \u001b[0;32mis\u001b[0m \u001b[0;32mNone\u001b[0m\u001b[0;34m\u001b[0m\u001b[0m\n\u001b[0m\u001b[1;32m     18\u001b[0m \u001b[0;32massert\u001b[0m \u001b[0mparser\u001b[0m\u001b[0;34m.\u001b[0m\u001b[0mparse\u001b[0m\u001b[0;34m(\u001b[0m\u001b[0;34m'terhes'\u001b[0m\u001b[0;34m)\u001b[0m \u001b[0;34m==\u001b[0m \u001b[0;34m'terhes[/Adj]'\u001b[0m\u001b[0;34m\u001b[0m\u001b[0m\n\u001b[1;32m     19\u001b[0m \u001b[0;32massert\u001b[0m \u001b[0mparser\u001b[0m\u001b[0;34m.\u001b[0m\u001b[0mparse\u001b[0m\u001b[0;34m(\u001b[0m\u001b[0;34m'csendesebbet'\u001b[0m\u001b[0;34m)\u001b[0m \u001b[0;34m==\u001b[0m \u001b[0;34m'csendes[/Adj]ebb[_Comp/Adj]et[Acc]'\u001b[0m\u001b[0;34m\u001b[0m\u001b[0m\n",
      "\u001b[0;31mAssertionError\u001b[0m: "
     ]
    }
   ],
   "source": [
    "# Your implementation here\n",
    "\n",
    "class CFGMorphParser(object):\n",
    "    def __init__(self):\n",
    "        pass\n",
    "    \n",
    "    def parse(self, word):\n",
    "        return word\n",
    "    \n",
    "    def parse_tree(self, word):\n",
    "        return Tree(word, [word])\n",
    "\n",
    "# Tests\n",
    "parser = CFGMorphParser()\n",
    "\n",
    "\n",
    "assert parser.parse('unknown_word') is None\n",
    "assert parser.parse('terhes') == 'terhes[/Adj]'\n",
    "assert parser.parse('csendesebbet') == 'csendes[/Adj]ebb[_Comp/Adj]et[Acc]'\n",
    "assert parser.parse('legfinomabbak') == 'leg[/Supl]finom[/Adj]abb[_Comp/Adj]ak[Pl]'\n",
    "# It's OK here\n",
    "assert parser.parse('legfinomabbek') == 'leg[/Supl]finom[/Adj]abb[_Comp/Adj]ek[Pl]'"
   ]
  },
  {
   "cell_type": "markdown",
   "metadata": {
    "deletable": true,
    "editable": true
   },
   "source": [
    "### 1.2.2 Vowel harmony (10 points)\n",
    "\n",
    "Also handle vowel harmony. Write a function that traverses the tree manually (similarly to [exercise 2.4 in the lab](../../course_material/10_Syntax/10_Syntax_lab_solutions.ipynb#2.4-Evaluation*)) and returns `True` or `False`, depending on whether the tree conforms to vowel harmony rules. Use this function in `parse_tree` (and `parse`) to filter invalid trees."
   ]
  },
  {
   "cell_type": "code",
   "execution_count": null,
   "metadata": {
    "collapsed": true,
    "deletable": true,
    "editable": true
   },
   "outputs": [],
   "source": [
    "# Tests\n",
    "assert parser.parse('legfinomabbak') == 'leg[/Supl]finom[/Adj]abb[_Comp/Adj]ak[Pl]'\n",
    "assert parser.parse('legfinomabbek') == None"
   ]
  },
  {
   "cell_type": "markdown",
   "metadata": {
    "deletable": true,
    "editable": true
   },
   "source": [
    "# Exercise 2: Syntax (55 points)\n",
    "\n",
    "In this exercise, you will parse a treebank, and induce a PCFG grammar from it. You will then implement a probabilistic version of the CKY algorithm, and evaluate the grammar on the test split of the treebank."
   ]
  },
  {
   "cell_type": "markdown",
   "metadata": {
    "deletable": true,
    "editable": true
   },
   "source": [
    "## 2.1 Parse a treebank (10 points)\n",
    "\n",
    "Parse the treebank file `en_lines-ud-train.s` in the notebook's directory. Write a **generator** function that reads the file and yields `nltk.tree.Tree` objects. In particular,\n",
    "- do not read the whole file into memory\n",
    "- the `Tree.fromstring()` function converts an s-expression into a tree\n",
    "\n",
    "Open the file in an editor to see the formatting.\n",
    "\n",
    "Note that the file was created by parsing the [LinES dependency corpus](https://github.com/UniversalDependencies/UD_English-LinES/tree/master) with [Stanford CoreNLP](https://stanfordnlp.github.io/CoreNLP/), so it is not a gold standard by any means, but it will suffice for now."
   ]
  },
  {
   "cell_type": "code",
   "execution_count": 5,
   "metadata": {
    "collapsed": false,
    "deletable": true,
    "editable": true
   },
   "outputs": [
    {
     "data": {
      "image/png": "[encoded data removed]",
      "text/plain": [
       "Tree('S', [Tree('PP', [Tree('IN', ['In']), Tree('NP', [Tree('NP', [Tree('NN', ['order'])]), Tree('PP', [Tree('IN', ['for']), Tree('NP', [Tree('NP', [Tree('DT', ['the']), Tree('NP', [Tree('NP', [Tree('JJ', ['Enable']), Tree('NN', ['system']), Tree('NN', ['administrator'])]), Tree('PRN', [Tree('-LRB-', ['-LRB-']), Tree('NP', [Tree('NNP', ['SA'])]), Tree('-RRB-', ['-RRB-'])])]), Tree('NN', ['user']), Tree('NN', ['name']), Tree('NN', ['check'])]), Tree('NP', [Tree('NN', ['box'])])])]), Tree('S', [Tree('VP', [Tree('TO', ['to']), Tree('VP', [Tree('VB', ['be']), Tree('VP', [Tree('VBN', ['enabled'])])])])])])]), Tree(',', [',']), Tree('NP', [Tree('DT', ['the']), Tree('VBG', ['following'])]), Tree('VP', [Tree('MD', ['must']), Tree('VP', [Tree('VB', ['be']), Tree('ADJP', [Tree('JJ', ['true'])])])]), Tree('.', ['.'])])"
      ]
     },
     "metadata": {},
     "output_type": "display_data"
    }
   ],
   "source": [
    "from nltk.tree import Tree\n",
    "\n",
    "def parse_treebank(treebank_file):\n",
    "    with open(treebank_file, 'r') as f:\n",
    "        s = ''\n",
    "        for l in f:\n",
    "            if len(l) > 1:\n",
    "                s += l\n",
    "            else:\n",
    "                yield Tree.fromstring(s)\n",
    "                s = ''\n",
    "            \n",
    "# Tests\n",
    "assert sum(1 for _ in parse_treebank('en_lines-ud-train.s')) == 2613\n",
    "assert isinstance(next(parse_treebank('en_lines-ud-train.s')), Tree)\n",
    "for i, t in enumerate(parse_treebank('en_lines-ud-dev.s')):\n",
    "    if i == 10:\n",
    "        display(t)\n",
    "        break"
   ]
  },
  {
   "cell_type": "markdown",
   "metadata": {},
   "source": [
    "<span style=\"color:green\">You don't check if `tree` is empty when you call `fromstring`.</span>"
   ]
  },
  {
   "cell_type": "markdown",
   "metadata": {
    "deletable": true,
    "editable": true
   },
   "source": [
    "## 2.2 Filter trees (5 points)\n",
    "\n",
    "In order to avoid problems further down the line, we shall only handle a subset of the trees in the treebank. We call a tree _valid_, if\n",
    "- its root is `'S'`\n",
    "- the root has at least two children.\n",
    "\n",
    "Write a function that returns `True` for \"valid\" trees and `False` for invalid ones. Filter the your generator with it."
   ]
  },
  {
   "cell_type": "code",
   "execution_count": 6,
   "metadata": {
    "collapsed": true,
    "deletable": true,
    "editable": true
   },
   "outputs": [],
   "source": [
    "def is_tree_valid(tree):\n",
    "    if not isinstance(tree, Tree):\n",
    "        return False\n",
    "    if tree.label() != 'S':\n",
    "        return False\n",
    "    if len(tree) < 2:\n",
    "        return False\n",
    "    return True\n",
    "\n",
    "# Tests\n",
    "assert sum(map(is_tree_valid, parse_treebank('en_lines-ud-train.s'))) == 2311"
   ]
  },
  {
   "cell_type": "markdown",
   "metadata": {},
   "source": [
    "<span style=\"color:green\">OK.</span>"
   ]
  },
  {
   "cell_type": "markdown",
   "metadata": {
    "deletable": true,
    "editable": true
   },
   "source": [
    "## 2.3 Induce the PCFG grammar (10 points)\n",
    "\n",
    "Now that you have the trees, it is time to induce (train) a PCFG grammar for it! Luckily, `nltk` has a functions for just that: [`nltk.grammar.induce_pcfg`](http://www.nltk.org/api/nltk.html#nltk.grammar.induce_pcfg). Use it to acquire your PCFG grammar. You can find hints at how to use it in the [grammar module](http://www.nltk.org/_modules/nltk/grammar.html).\n",
    "\n",
    "Note: since we want to parse sentences with the PCKY algorithm, we need our grammar to be in CNF. Unfortunately, `nlkt` cannot convert a grammar to CNF, so you have to ensure that the trees are in CNF before feeding them to the PCFG induction function. That way, we can be sure that our grammar will be also. There are two functions that ensure a tree is in CNF:\n",
    "- [`collapse_unary`](http://www.nltk.org/api/nltk.html#nltk.tree.Tree.collapse_unary). Make sure you call it with `collapsePOS=True`!\n",
    "- [`chomsky_normal_form`](http://www.nltk.org/api/nltk.html#nltk.tree.Tree.chomsky_normal_form). Do not use any smoothing."
   ]
  },
  {
   "cell_type": "code",
   "execution_count": 8,
   "metadata": {
    "collapsed": false,
    "deletable": true,
    "editable": true
   },
   "outputs": [
    {
     "name": "stdout",
     "output_type": "stream",
     "text": [
      "14011\n"
     ]
    },
    {
     "ename": "AssertionError",
     "evalue": "",
     "output_type": "error",
     "traceback": [
      "\u001b[0;31m---------------------------------------------------------------------------\u001b[0m",
      "\u001b[0;31mAssertionError\u001b[0m                            Traceback (most recent call last)",
      "\u001b[0;32m<ipython-input-8-9fcb6ab5b1e2>\u001b[0m in \u001b[0;36m<module>\u001b[0;34m()\u001b[0m\n\u001b[1;32m     21\u001b[0m \u001b[0;32massert\u001b[0m \u001b[0mis_grammar_cnf\u001b[0m\u001b[0;34m(\u001b[0m\u001b[0mgrammar\u001b[0m\u001b[0;34m)\u001b[0m\u001b[0;34m\u001b[0m\u001b[0m\n\u001b[1;32m     22\u001b[0m \u001b[0mprint\u001b[0m\u001b[0;34m(\u001b[0m\u001b[0mlen\u001b[0m\u001b[0;34m(\u001b[0m\u001b[0mgrammar\u001b[0m\u001b[0;34m.\u001b[0m\u001b[0mproductions\u001b[0m\u001b[0;34m(\u001b[0m\u001b[0;34m)\u001b[0m\u001b[0;34m)\u001b[0m\u001b[0;34m)\u001b[0m\u001b[0;34m\u001b[0m\u001b[0m\n\u001b[0;32m---> 23\u001b[0;31m \u001b[0;32massert\u001b[0m \u001b[0mlen\u001b[0m\u001b[0;34m(\u001b[0m\u001b[0mgrammar\u001b[0m\u001b[0;34m.\u001b[0m\u001b[0mproductions\u001b[0m\u001b[0;34m(\u001b[0m\u001b[0;34m)\u001b[0m\u001b[0;34m)\u001b[0m \u001b[0;34m==\u001b[0m \u001b[0;36m15000\u001b[0m\u001b[0;34m\u001b[0m\u001b[0m\n\u001b[0m",
      "\u001b[0;31mAssertionError\u001b[0m: "
     ]
    }
   ],
   "source": [
    "from time import sleep\n",
    "\n",
    "def train_grammar(trees):\n",
    "    prods = []\n",
    "    for tree in trees: \n",
    "        tree.chomsky_normal_form()  # leaves unary nonterminals in tree, e.g. NP -> DT\n",
    "        tree.collapse_unary(collapsePOS=True)\n",
    "        prods += tree.productions()\n",
    "    return nltk.grammar.induce_pcfg(nltk.Nonterminal('SS'), prods)\n",
    "        \n",
    "def is_grammar_cnf(grammar):\n",
    "    for prod in grammar.productions():\n",
    "        rhs = prod.rhs()\n",
    "        if len(rhs) > 2 or (len(rhs) == 1 and isinstance(rhs[0], nltk.Nonterminal)):\n",
    "            return False\n",
    "    return True\n",
    "\n",
    "# Tests\n",
    "grammar = train_grammar(filter(is_tree_valid, parse_treebank('en_lines-ud-train.s')))\n",
    "# print(grammar)\n",
    "assert is_grammar_cnf(grammar)\n",
    "print(len(grammar.productions()))\n",
    "assert len(grammar.productions()) == 15000"
   ]
  },
  {
   "cell_type": "markdown",
   "metadata": {},
   "source": [
    "<span style=\"color:green\">You don't have the correct number of rules in the grammar. The problem is that you called the functions in the wrong order -- `collapse_unary()` should be called first, otherwise it can your pull up 2 nodes into a binary, leaving you with three siblings.</span>\n",
    "\n",
    "<span style=\"color:green\">Also, '_SS_' (a typo, I guess).</span>"
   ]
  },
  {
   "cell_type": "markdown",
   "metadata": {
    "deletable": true,
    "editable": true
   },
   "source": [
    "## 2.4 Implement PCKY (15 points)\n",
    "\n",
    "Implement the PCKY algorithm. Encapsulate it in a class called `PCKYParser`. Extend your `CKYParser` solution from the lab so that it creates trees with probabilities (`ProbabilisticTree`). The `parse()` method should also accept a parameter `n`, and only return the most probable `n` trees (as a generator).\n",
    "\n",
    "Some pointers:\n",
    "- [ProbabilisticTree](http://www.nltk.org/api/nltk.html#nltk.tree.ProbabilisticTree), which inherits from\n",
    "- [ProbabilisticMixIn](http://www.nltk.org/api/nltk.html#nltk.probability.ProbabilisticMixIn)"
   ]
  },
  {
   "cell_type": "markdown",
   "metadata": {
    "deletable": true,
    "editable": true
   },
   "source": [
    "## 2.5 Evaluate the grammar (15 points)\n",
    "\n",
    "Evaluate your grammar on the test split of the treebank (`en_lines-ud-dev.s`). Implement the **unlabelled** PARSEVAL metric. See [the first answer for an example](https://linguistics.stackexchange.com/questions/1873/is-there-a-well-established-metric-to-measure-the-effectiveness-of-a-parsing-alg)."
   ]
  },
  {
   "cell_type": "markdown",
   "metadata": {
    "deletable": true,
    "editable": true
   },
   "source": [
    "# Exercise 3: Bonus* (20 points)\n",
    "\n",
    "Implement a class that converts Python-style regular expressions to XSLT-style ones, and executes them via foma."
   ]
  },
  {
   "cell_type": "markdown",
   "metadata": {
    "deletable": true,
    "editable": true
   },
   "source": [
    "## 3.1 Conversion* (10 points)\n",
    "\n",
    "The functionality should be encapsulated in a class called `FomaRegex`. The public API specification is as follows:\n",
    "- its constructor should accept a valid Python regex string (not a [regex object](https://docs.python.org/3/library/re.html#regular-expression-objects)), convert it to the XFST format and store it in its `pattern` member field\n",
    "- it should have a `convert` static method that does the pattern conversion. You can use pure Python or better yet, a CFG grammar\n",
    "- the class should implement the context manager protocol:\n",
    "    - when entering the context, an FSA file should be created via foma and its name stored in the `fsa_file` field.  The [`regex <regex> ;` command](https://github.com/mhulden/foma/blob/master/foma/docs/simpleintro.md#compiling-regular-expressions) can be used to compile a regex in foma; for the rest, refer to the [`compile_lexc()` function](../../course_material/09_Morphology_lab/09_Morphology_lab_solutions.ipynb#Morphology)\n",
    "    - after the context closes, the FSA file should be deleted and the `fsa_file` member set to `None`\n",
    "\n",
    "You only need to account for the first six rows in [the table comparing the two syntaxes](../../course_material/08_Morphology/08_Morphology_lecture.ipynb#XFST-vs-Python-regular-expressions). Additionally, you only need to cover the characters a-zA-Z0-9 (i.e. no punctuation). Note that there are two options for verbatim texts in XFST: `[a b c]` or `{abc}`. You are encouraged to use the latter; should you choose to use the former, update the assert statements accordingly.\n",
    "\n",
    "You don't have to worry about applying the regex at this point."
   ]
  },
  {
   "cell_type": "code",
   "execution_count": null,
   "metadata": {
    "collapsed": true,
    "deletable": true,
    "editable": true
   },
   "outputs": [],
   "source": [
    "import os\n",
    "\n",
    "class FomaRegex:\n",
    "    pass\n",
    "\n",
    "# Tests\n",
    "assert FomaRegex.convert('ab?c*d+') == '{a}{b}^<2{c}*{d}+'\n",
    "assert FomaRegex.convert('a.b') == '{a}?{b}'\n",
    "assert FomaRegex.convert('a+(bc|de).*') == '{a}+[{bc}|{de}]?*'\n",
    "\n",
    "with FomaRegex('a.b') as fr:\n",
    "    assert fr.pattern == '{a}?{b}', 'Invalid pattern'\n",
    "    assert fr.fsa_file is not None, 'FSA file is None in with'\n",
    "    fsa_file = fr.fsa_file\n",
    "assert fr.fsa_file is None, 'FSA file is not None after with'\n",
    "assert not os.path.isfile(fsa_file), 'FSA file still exists after with'"
   ]
  },
  {
   "cell_type": "markdown",
   "metadata": {
    "deletable": true,
    "editable": true
   },
   "source": [
    "## 3.2 Application* (5 points)\n",
    "\n",
    "Add a `match` method to the class that runs the regex against the specified string. It should return `True` or `False` depending on whether the regex matched the string.\n",
    "\n",
    "Note: obviously you should use your FSA file and foma, not the `re` module. :)"
   ]
  },
  {
   "cell_type": "code",
   "execution_count": null,
   "metadata": {
    "collapsed": true,
    "deletable": true,
    "editable": true
   },
   "outputs": [],
   "source": [
    "# Tests\n",
    "with FomaRegex('a*(bc|de).+') as fr:\n",
    "    assert fr.match('aabcd') is True\n",
    "    assert fr.match('ade') is False"
   ]
  },
  {
   "cell_type": "markdown",
   "metadata": {
    "deletable": true,
    "editable": true
   },
   "source": [
    "## 3.3 Multiple regexes (5 points)\n",
    "\n",
    "Make sure not all `FomaRegex` objects use the same FSA file."
   ]
  },
  {
   "cell_type": "code",
   "execution_count": null,
   "metadata": {
    "collapsed": true,
    "deletable": true,
    "editable": true
   },
   "outputs": [],
   "source": [
    "# Tests\n",
    "with FomaRegex('a') as a, FomaRegex('b') as b:\n",
    "    assert a.fsa_file != b.fsa_file"
   ]
  }
 ],
 "metadata": {
  "kernelspec": {
   "display_name": "Python 3",
   "language": "python",
   "name": "python3"
  },
  "language_info": {
   "codemirror_mode": {
    "name": "ipython",
    "version": 3
   },
   "file_extension": ".py",
   "mimetype": "text/x-python",
   "name": "python",
   "nbconvert_exporter": "python",
   "pygments_lexer": "ipython3",
   "version": "3.5.2"
  }
 },
 "nbformat": 4,
 "nbformat_minor": 2
}
