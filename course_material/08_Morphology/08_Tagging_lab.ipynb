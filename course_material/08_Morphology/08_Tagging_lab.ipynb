{
 "cells": [
  {
   "cell_type": "markdown",
   "metadata": {},
   "source": [
    "# Tagging lab\n",
    "## Viterbi\n",
    "$k = 2$\n",
    "The Markov assumption:\n",
    "$$\n",
    "\\mathbb{P}(w_1, w_2, \\ldots w_n \\ | \\ l_1, l_2 \\ldots l_n) =\n",
    "    \\prod_{i=1}^n\\mathbb{P}(l_i \\ | l_{i-1})\\cdot\\mathbb{P}(w_i \\ | \\ l_i)\n",
    "$$\n",
    "The Viterbi function gives the optimal value:\n",
    "$$\n",
    "V(w_1, w_2, \\ldots w_n) =\n",
    "{\\arg\\max}_{l_i\\in L}\n",
    "    \\prod_{i=1}^n\\mathbb{P}(l_i \\ | l_{i-1})\\cdot\\mathbb{P}(w_i \\ | \\ l_i)\n",
    "$$\n",
    "For small $n$-s:\n",
    "$$\n",
    "V(w_1) = {\\arg\\max}_{l_1\\in L} \\mathbb{P}(w_1 \\ | \\ l_1)\n",
    "$$\n",
    "\n",
    "$$\n",
    "V(w_1, w_2) = {\\arg\\max}_{l_1, l_2\\in L} \\mathbb{P}(w_1 \\ | \\ l_1) \\cdot \\mathbb{P}(l_2 \\ | \\ l_1) \\cdot \\mathbb{P}(w_2 \\ | \\ l_2)\n",
    "$$\n",
    "\n",
    "$$\n",
    "V(w_1, w_2, w_3) = {\\arg\\max}_{l_1, l_2, l_3\\in L} V(w_1, w_2) \\cdot \\mathbb{P}(l_3 \\ | \\ l_2) \\cdot \\mathbb{P}(w_3 \\ | \\ l_3)\n",
    "$$\n",
    "\n",
    "$$\n",
    "V(w_1, w_2, w_3, w_4) = {\\arg\\max}_{l_1, l_2, l_3, l_4\\in L} V(w_1, w_2, w_3) \\cdot \\mathbb{P}(l_4 \\ | \\ l_3) \\cdot \\mathbb{P}(w_4 \\ | \\ l_4)\n",
    "$$"
   ]
  },
  {
   "cell_type": "markdown",
   "metadata": {},
   "source": [
    "## Implementing Viterbi\n",
    "For $k=2$\n",
    "### Task 1\n",
    "Read the file [`umbc.casesensitive.word_pos.1M.txt`](http://sandbox.hlt.bme.hu/~gaebor/ea_anyag/python_nlp) line-by-line and make a vocabulary of words and labels. The file is in a format:\n",
    "\n",
    "`\"word\\tpos\\n\"`\n",
    "You have to have:\n",
    "* a dict of words to indices\n",
    "* a dict of labels to indices\n",
    "* reverse dict, indices to words\n",
    "\n",
    "Note that there can be some errors in the file, character encoding and delimiter!"
   ]
  },
  {
   "cell_type": "code",
   "execution_count": null,
   "metadata": {},
   "outputs": [],
   "source": [
    "dowi = {}\n",
    "doli = {}\n",
    "doiw = {}\n",
    "with open('umbc.casesensitive.word_pos.1M.txt', 'r', encoding='utf8', errors='ignore') as f:\n",
    "    for l in f:\n",
    "        tmp = l.strip().split('\\t')\n",
    "        if len(tmp) != 2:\n",
    "            continue\n",
    "        w, l = tmp[0], tmp[1]\n",
    "        dowi[w] = dowi.get(w, len(dowi))\n",
    "        i = dowi[w]\n",
    "        try:\n",
    "            doli[l].add(i)\n",
    "        except KeyError:\n",
    "            doli[l] = set([i])\n",
    "        doiw[i] = doiw.get(i, w)\n",
    "        \n",
    "print(len(dowi), len(doli), len(doiw))"
   ]
  },
  {
   "cell_type": "markdown",
   "metadata": {},
   "source": [
    "### Task 2\n",
    "Obtain the following matrices:\n",
    "* counts of words with pos tags\n",
    "  * a $|V|\\times |L|$ matrix of integers\n",
    "  $$M(i,j) = \\# \\ i^\\text{th} \\text{ word with pos tag } j$$\n",
    "  * an $|L|\\times |L|$ matrix of integers\n",
    "  $$N(i,j) = \\# \\ i^\\text{th} \\text{ pos after } j^\\text{th} \\text { pos}$$\n",
    "\n",
    "After that\n",
    "* empirical probabilities\n",
    "  * a $|V|\\times |L|$ matrix of floats\n",
    "  $$P_1(i,j) = \\frac{\\# \\ i^\\text{th} \\text{ word with pos tag } j}{\\# \\ \\text{pos tag } j}$$\n",
    "  * an $|L|\\times |L|$ matrix of floats\n",
    "  $$P_2(i,j) = \\frac{\\# \\ i^\\text{th} \\text{ pos after } j^\\text{th} \\text { pos}}{\\# \\ \\text{pos tag } j}$$\n"
   ]
  },
  {
   "cell_type": "code",
   "execution_count": null,
   "metadata": {
    "collapsed": true
   },
   "outputs": [],
   "source": [
    "import numpy as np\n",
    "\n",
    "\n",
    "V = len(dowi)\n",
    "L = len(doli)\n",
    "\n",
    "M = np.empty((V, L), dtype=np.int32)\n",
    "N = np.empty((L, L), dtype=np.int32)\n",
    "P1 = np.empty((V, L), dtype=np.float)\n",
    "P2 = np.empty((L, L), dtype=np.float)\n",
    "\n",
    "for i in range(V):\n",
    "    for j in range(L):\n",
    "        # M(i,j) = # ith word with pos tag j\n",
    "        pos_tag_j = doli[j]\n",
    "        M[i, j] += doiw[i]\n",
    "        # N(i,j) = # ith pos after jth pos\n",
    "        N[i, j] = 0\n",
    "        # P1(i,j) = \\frac{ # ith word with pos tag j }{ # pos tag j }\n",
    "        P1[i, j] = 0\n",
    "        # P2(i,j) = \\frac{ # ith pos after jth pos }{ # pos tag j }\n",
    "        P2[i, j] = 0"
   ]
  },
  {
   "cell_type": "markdown",
   "metadata": {},
   "source": [
    "### Task 3\n",
    "Implement the pseudocode in the tagging lecture ($k=2$).\n",
    "Use the global variables `P1` and `P2` (and the dictionaries).\n",
    "\n",
    "It is useful to have a one-step-viterbi function.\n",
    "$$\n",
    "\\mathrm{step}(\\pi_{k-1}, v, word) = \\max_{w\\in L} \\left(\\pi(k−1,w)\\cdot \\mathbb{P}(v \\ | \\ w)\\cdot \\mathbb{P}(word \\ | \\ v)\\right) \n",
    "$$\n",
    "$\\pi_{k-1}$ is a vector, the previous column of the dynamic table. "
   ]
  },
  {
   "cell_type": "code",
   "execution_count": null,
   "metadata": {
    "collapsed": true
   },
   "outputs": [],
   "source": [
    "def viterbi_step(previous, u, v, word):\n",
    "    return 0.0"
   ]
  },
  {
   "cell_type": "code",
   "execution_count": null,
   "metadata": {
    "collapsed": true
   },
   "outputs": [],
   "source": [
    "def viterbi(words):\n",
    "    \"\"\"from a list of strings returns the optimal probability\"\"\"\n",
    "    return 0.0"
   ]
  },
  {
   "cell_type": "markdown",
   "metadata": {},
   "source": [
    "### Task 4\n",
    "Add the backtracking with an extra table, which stores the argmax, not the max value."
   ]
  },
  {
   "cell_type": "code",
   "execution_count": null,
   "metadata": {
    "collapsed": true
   },
   "outputs": [],
   "source": [
    "import numpy, scipy\n",
    "from collections import defaultdict"
   ]
  },
  {
   "cell_type": "code",
   "execution_count": null,
   "metadata": {
    "collapsed": true
   },
   "outputs": [],
   "source": [
    "with open(\"umbc.casesensitive.word_pos.1M.txt\", \"rb\") as f:\n",
    "    for line in f:\n",
    "        parts = line.strip().split(b'\\t')\n",
    "        if len(parts) == 2:\n",
    "            word = parts[0]\n",
    "            pos = parts[1]\n",
    "            pass"
   ]
  },
  {
   "cell_type": "code",
   "execution_count": null,
   "metadata": {
    "collapsed": true
   },
   "outputs": [],
   "source": []
  }
 ],
 "metadata": {
  "kernelspec": {
   "display_name": "Python 3",
   "language": "python",
   "name": "python3"
  },
  "language_info": {
   "codemirror_mode": {
    "name": "ipython",
    "version": 3
   },
   "file_extension": ".py",
   "mimetype": "text/x-python",
   "name": "python",
   "nbconvert_exporter": "python",
   "pygments_lexer": "ipython3",
   "version": "3.6.2"
  }
 },
 "nbformat": 4,
 "nbformat_minor": 2
}
