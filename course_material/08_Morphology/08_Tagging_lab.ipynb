{
 "cells": [
  {
   "cell_type": "markdown",
   "metadata": {},
   "source": [
    "# Tagging lab\n",
    "## Viterbi\n",
    "$k = 2$\n",
    "The Markov assumption:\n",
    "$$\n",
    "\\mathbb{P}(w_1, w_2, \\ldots w_n \\ | \\ l_1, l_2 \\ldots l_n) =\n",
    "    \\prod_{i=1}^n\\mathbb{P}(l_i \\ | l_{i-1})\\cdot\\mathbb{P}(w_i \\ | \\ l_i)\n",
    "$$\n",
    "The Viterbi function gives the optimal value:\n",
    "$$\n",
    "V(w_1, w_2, \\ldots w_n) =\n",
    "{\\max}_{l_i\\in L}\n",
    "    \\prod_{i=1}^n\\mathbb{P}(l_i \\ | l_{i-1})\\cdot\\mathbb{P}(w_i \\ | \\ l_i)\n",
    "$$\n",
    "For small $n$-s:\n",
    "$$\n",
    "V(w_1) = {\\max}_{l_1\\in L} \\mathbb{P}(w_1 \\ | \\ l_1)\n",
    "$$\n",
    "\n",
    "$$\n",
    "V(w_1, w_2) = {\\max}_{l_1, l_2\\in L} \\mathbb{P}(w_1 \\ | \\ l_1) \\cdot \\mathbb{P}(l_2 \\ | \\ l_1) \\cdot \\mathbb{P}(w_2 \\ | \\ l_2)\n",
    "$$\n",
    "\n",
    "$$\n",
    "V(w_1, w_2, w_3) = {\\max}_{l_1, l_2, l_3\\in L} V(w_1, w_2) \\cdot \\mathbb{P}(l_3 \\ | \\ l_2) \\cdot \\mathbb{P}(w_3 \\ | \\ l_3)\n",
    "$$\n",
    "\n",
    "$$\n",
    "V(w_1, w_2, w_3, w_4) = {\\max}_{l_1, l_2, l_3, l_4\\in L} V(w_1, w_2, w_3) \\cdot \\mathbb{P}(l_4 \\ | \\ l_3) \\cdot \\mathbb{P}(w_4 \\ | \\ l_4)\n",
    "$$"
   ]
  },
  {
   "cell_type": "markdown",
   "metadata": {},
   "source": [
    "## Implementing Viterbi\n",
    "For $k=2$\n",
    "### Task 1\n",
    "Read the file [`umbc.casesensitive.word_pos.1M.txt`](http://sandbox.hlt.bme.hu/~gaebor/ea_anyag/python_nlp) line-by-line and make a vocabulary of words and labels. The file is in the format:\n",
    "\n",
    "`\"word\\tpos\\n\"`\n",
    "\n",
    "You have to have:\n",
    "* a dict of words to indices\n",
    "* a dict of labels to indices\n",
    "* reverse dict, indices to words, indices to pos tags (labels)\n",
    "\n",
    "\n",
    "Note that there can be some errors in the file, character encoding and delimiter!"
   ]
  },
  {
   "cell_type": "code",
   "execution_count": null,
   "metadata": {},
   "outputs": [],
   "source": [
    "dowi = {}\n",
    "doli = {}\n",
    "with open('umbc.casesensitive.word_pos.1M.txt', 'r', encoding='utf8', errors='ignore') as f:\n",
    "    for l in f:\n",
    "        tmp = l.strip().split('\\t')\n",
    "        if len(tmp) != 2:\n",
    "            continue\n",
    "        w, l = tmp[0], tmp[1]\n",
    "        dowi[w] = dowi.get(w, len(dowi))\n",
    "        doli[l] = doli.get(l, len(doli))\n",
    "        \n",
    "doiw = {i: w for w, i in dowi.items()}\n",
    "doil = {i: l for l, i in doli.items()}"
   ]
  },
  {
   "cell_type": "markdown",
   "metadata": {},
   "source": [
    "### Task 2\n",
    "Obtain the following matrices:\n",
    "* counts of words with pos tags\n",
    "  * a $|V|\\times |L|$ matrix of integers\n",
    "  $$M(i,j) = \\# \\ i^\\text{th} \\text{ word with pos tag } j$$\n",
    "  * an $|L|\\times |L|$ matrix of integers\n",
    "  $$N(i,j) = \\# \\ i^\\text{th} \\text{ pos after } j^\\text{th} \\text { pos}$$\n",
    "\n",
    "After that\n",
    "* empirical probabilities\n",
    "  * a $|V|\\times |L|$ matrix of floats\n",
    "  $$P_1(i,j) = \\frac{\\# \\ i^\\text{th} \\text{ word with pos tag } j}{\\# \\ \\text{pos tag } j}$$\n",
    "  * an $|L|\\times |L|$ matrix of floats\n",
    "  $$P_2(i,j) = \\frac{\\# \\ i^\\text{th} \\text{ pos after } j^\\text{th} \\text { pos}}{\\# \\ \\text{pos tag } j}$$\n"
   ]
  },
  {
   "cell_type": "code",
   "execution_count": null,
   "metadata": {
    "collapsed": true
   },
   "outputs": [],
   "source": [
    "import numpy as np\n",
    "\n",
    "\n",
    "V = len(dowi)\n",
    "L = len(doli)\n",
    "\n",
    "M = np.zeros((V, L), dtype=np.int32)\n",
    "N = np.zeros((L, L), dtype=np.int32)\n",
    "\n",
    "l_prev = 'imaginary label, which is not present in dict of labels to indices (aka doli)'\n",
    "with open('umbc.casesensitive.word_pos.1M.txt', 'r', encoding='utf8', errors='ignore') as f:\n",
    "    for l in f:\n",
    "        tmp = l.strip().split('\\t')\n",
    "        if len(tmp) != 2:\n",
    "            continue\n",
    "        w, l = tmp[0], tmp[1]\n",
    "        M[dowi[w], doli[l]] += 1\n",
    "        try:\n",
    "            N[doli[l_prev], doli[l]] += 1\n",
    "        except KeyError:\n",
    "            pass  # should only occur on first cycle\n",
    "        l_prev = l"
   ]
  },
  {
   "cell_type": "code",
   "execution_count": null,
   "metadata": {
    "collapsed": true
   },
   "outputs": [],
   "source": [
    "P1 = M / M.sum(axis=0).astype(np.float)\n",
    "P2 = N / N.sum(axis=0).astype(np.float)"
   ]
  },
  {
   "cell_type": "markdown",
   "metadata": {},
   "source": [
    "\n",
    "\n",
    "### Task 3\n",
    "Implement the pseudocode in the tagging lecture ($k=2$).\n",
    "Use the global variables `P1` and `P2` (and the dictionaries).\n",
    "\n",
    "It is useful to have a one-step-viterbi function.\n",
    "$$\n",
    "\\mathrm{step}(\\pi_{k-1}, v, word) = \\max_{w\\in L} \\left(\\pi(w, k-1)\\cdot \\mathbb{P}(v \\ | \\ w)\\cdot \\mathbb{P}(word \\ | \\ v)\\right) \n",
    "$$\n",
    "$\\pi_{k-1}$ is a vector, the previous column of the dynamic table. "
   ]
  },
  {
   "cell_type": "code",
   "execution_count": 3,
   "metadata": {
    "collapsed": true
   },
   "outputs": [],
   "source": [
    "def viterbi_step(previous, v, word):\n",
    "    max_ = 0\n",
    "    for i in doli.values():\n",
    "        prod = previous[i] * P2[i, v] * P1[word, v]\n",
    "        if prod > max_:\n",
    "            max_ = prod\n",
    "    return max_"
   ]
  },
  {
   "cell_type": "code",
   "execution_count": 2,
   "metadata": {
    "collapsed": true
   },
   "outputs": [],
   "source": [
    "def viterbi(words):\n",
    "    \"\"\"from a list of strings returns the optimal probability\"\"\"\n",
    "    num_words = len(words)\n",
    "    pi = np.zeros((L, num_words))\n",
    "    \n",
    "    # first line of pi\n",
    "    k = 0\n",
    "    for v in range(L):\n",
    "        i = dowi[words[k]]\n",
    "        pi[v, k] = P1[i, v]\n",
    "        \n",
    "    # step trough other lines\n",
    "    for k in range(1, num_words):\n",
    "        word = words[k]\n",
    "        i = dowi[word]\n",
    "        for v in range(L):\n",
    "            pi[v, k] = viterbi_step(pi[:, k-1], v, i)\n",
    "            \n",
    "    return np.max(pi[:, -1])"
   ]
  },
  {
   "cell_type": "markdown",
   "metadata": {},
   "source": [
    "### Task 4\n",
    "Add the backtracking with an extra table, which stores the argmax, not the max value."
   ]
  },
  {
   "cell_type": "code",
   "execution_count": null,
   "metadata": {
    "collapsed": true
   },
   "outputs": [],
   "source": [
    "def viterbi_step(previous, v, word):\n",
    "    max_ = 0\n",
    "    max_i = 0\n",
    "    for i in doli.values():\n",
    "        prod = previous[i] * P2[i, v] * P1[word, v]\n",
    "        if prod > max_:\n",
    "            max_ = prod\n",
    "            max_i = i\n",
    "    return max_, max_i"
   ]
  },
  {
   "cell_type": "code",
   "execution_count": null,
   "metadata": {
    "collapsed": true
   },
   "outputs": [],
   "source": [
    "def viterbi(words):\n",
    "    \"\"\"from a list of strings returns the optimal probability\"\"\"\n",
    "    num_words = len(words)\n",
    "    pi = np.zeros((L, num_words))\n",
    "    label_is = np.zeros((L, num_words), np.int32)\n",
    "    \n",
    "    # first line of pi\n",
    "    k = 0\n",
    "    for v in range(L):\n",
    "        i = dowi[words[k]]\n",
    "        pi[v, k] = P1[i, v]\n",
    "        \n",
    "    # step trough other lines\n",
    "    for k in range(1, num_words):\n",
    "        word = words[k]\n",
    "        i = dowi[word]\n",
    "        for v in range(L):\n",
    "            pi[v, k], label_is[v, k] = viterbi_step(pi[:, k-1], v, i)\n",
    "            \n",
    "    v_max = np.max(pi[:, -1])\n",
    "    i_max = np.argmax(pi[:, -1])\n",
    "    # backtrack label indices\n",
    "    labels = [doil[i_max]]\n",
    "    for word_idx in range(num_words-1, 0, -1):\n",
    "        labels.append(doil[label_is[doli[labels[-1]], word_idx]])\n",
    "    \n",
    "    labels.reverse()\n",
    "    return v_max, labels"
   ]
  },
  {
   "cell_type": "code",
   "execution_count": null,
   "metadata": {},
   "outputs": [],
   "source": [
    "viterbi(\"The guy from the pub smoked a cigarette .\".split())"
   ]
  }
 ],
 "metadata": {
  "kernelspec": {
   "display_name": "Python 3",
   "language": "python",
   "name": "python3"
  },
  "language_info": {
   "codemirror_mode": {
    "name": "ipython",
    "version": 3
   },
   "file_extension": ".py",
   "mimetype": "text/x-python",
   "name": "python",
   "nbconvert_exporter": "python",
   "pygments_lexer": "ipython3",
   "version": "3.5.2"
  }
 },
 "nbformat": 4,
 "nbformat_minor": 2
}
