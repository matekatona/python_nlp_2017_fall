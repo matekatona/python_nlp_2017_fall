{
 "cells": [
  {
   "cell_type": "markdown",
   "metadata": {},
   "source": [
    "# Laboratory 04, Week 05\n",
    "\n",
    "## 1. `RationalNumber` class\n",
    "\n",
    "Write a class that represents a rational number. A number is rational if it is can be expressed as the quotient of two integers (p and q). Define the operators seen in the tests below.\n",
    "\n",
    "Make sure that p and q are always relative primes (you can use `math.gcd`)."
   ]
  },
  {
   "cell_type": "code",
   "execution_count": 52,
   "metadata": {},
   "outputs": [],
   "source": [
    "import re\n",
    "from math import gcd\n",
    "\n",
    "\n",
    "class RationalNumberValueError(ValueError):\n",
    "    pass\n",
    "\n",
    "\n",
    "class RationalNumber(object):\n",
    "    rat_pat = re.compile(r'(?P<psign>-)?\\s*(?P<p>\\d+)(?P<den>\\s*/\\s*(?P<qsign>-)?\\s*(?P<q>\\d+))?')\n",
    "    \n",
    "    def __init__(self, p, q=1):\n",
    "        if q < 0:\n",
    "            p, q, = -p, -q\n",
    "        try:\n",
    "            d = gcd(p, q)\n",
    "        except TypeError:\n",
    "            raise RationalNumberValueError(\"TODO\")\n",
    "        self._p, self._q = p // d, q // d\n",
    "    \n",
    "    @property\n",
    "    def p(self):\n",
    "        return self._p\n",
    "    \n",
    "    @p.setter\n",
    "    def p(self, newp):\n",
    "        if type(newp) is not int:\n",
    "            raise RationalNumberValueError(\"TODO\")\n",
    "        d = gcd(newp, self._q)\n",
    "        self._p = newp // d\n",
    "        self._q = self._q // d\n",
    "        \n",
    "    @property\n",
    "    def q(self):\n",
    "        return self._q\n",
    "    \n",
    "    @q.setter\n",
    "    def q(self, newq):\n",
    "        if type(newq) is not int:\n",
    "            raise RationalNumberValueError(\"TODO\")\n",
    "        if q < 0:\n",
    "            p, q = -p, -q\n",
    "        d = gcd(self._p, newq)\n",
    "        self._p = self._p // d\n",
    "        self._q = newq // d\n",
    "    \n",
    "    def __add__(self, other):\n",
    "        if isinstance(other, int):\n",
    "            other = RationalNumber(other, 1)\n",
    "        elif isinstance(other, RationalNumber):\n",
    "            pass\n",
    "        else:\n",
    "            raise TypeError(\"TODO\")\n",
    "        p = self._p * other._q + other._p * self._q\n",
    "        q = self._q * other._q\n",
    "        d = gcd(p, q)\n",
    "        return RationalNumber(p // d, q // d)\n",
    "        \n",
    "    def __mul__(self, other):\n",
    "        if isinstance(other, int):\n",
    "            other = RationalNumber(other, 1)\n",
    "        elif isinstance(other, RationalNumber):\n",
    "            pass\n",
    "        else:\n",
    "            raise TypeError(\"TODO\")\n",
    "        p = self._p * other._p\n",
    "        q = self._q * other._q\n",
    "        d = gcd(p, q)\n",
    "        return RationalNumber(p // d, q // d)\n",
    "        \n",
    "    def __truediv__(self, other):\n",
    "        if isinstance(other, int):\n",
    "            other = RationalNumber(other, 1)\n",
    "        elif isinstance(other, RationalNumber):\n",
    "            pass\n",
    "        else:\n",
    "            raise TypeError(\"TODO\")\n",
    "        p = self._p * other._q\n",
    "        q = self._q * other._p\n",
    "        d = gcd(p, q)\n",
    "        return RationalNumber(p // d, q // d)\n",
    "        \n",
    "    def __eq__(self, other):\n",
    "        if isinstance(other, int):\n",
    "            other = RationalNumber(other, 1)\n",
    "        elif isinstance(other, RationalNumber):\n",
    "            pass\n",
    "        else:\n",
    "            raise TypeError(\"TODO\")\n",
    "        return (self._p == other._p) and (self._q == other._q)\n",
    "        \n",
    "    def __hash__(self):\n",
    "        return hash((self._p, self._q))\n",
    "    \n",
    "    def __abs__(self):\n",
    "        return abs(self._p / self._q)\n",
    "    \n",
    "    @staticmethod\n",
    "    def from_str(s):\n",
    "        rat_mtc = RationalNumber.rat_pat.match(s)\n",
    "        if rat_mtc is None:\n",
    "            return None\n",
    "        rat = rat_mtc.groupdict()\n",
    "        if rat['psign'] is None:\n",
    "                p = int(rat['p'])\n",
    "        else:\n",
    "                p = -int(rat['p'])\n",
    "        if 'den' not in rat.keys():\n",
    "            q = 1\n",
    "        else:\n",
    "            if rat['qsign'] is None:\n",
    "                q = int(rat['q'])\n",
    "            else:\n",
    "                q = -int(rat['q'])\n",
    "        return RationalNumber(p, q)\n",
    "        \n",
    "        \n",
    "r = RationalNumber(43, 2)\n",
    "assert r + r == RationalNumber(43)  # q = 1 in this case\n",
    "\n",
    "assert r * 2 == r + r\n",
    "\n",
    "r1 = RationalNumber(3, 2)\n",
    "r2 = RationalNumber(4, 3)\n",
    "\n",
    "assert r1 * r2 == RationalNumber(12, 6)\n",
    "assert r1 / r2 == RationalNumber(9, 8)\n",
    "\n",
    "assert r1 == RationalNumber(6, 4)"
   ]
  },
  {
   "cell_type": "markdown",
   "metadata": {},
   "source": [
    "### RationalNumber advanced exercises\n",
    "\n",
    "Make the class usable as a dictionary key."
   ]
  },
  {
   "cell_type": "code",
   "execution_count": 29,
   "metadata": {
    "collapsed": true
   },
   "outputs": [],
   "source": [
    "r1 = RationalNumber(3)\n",
    "r2 = RationalNumber(3, 1)\n",
    "r3 = RationalNumber(3, 2)\n",
    "\n",
    "d = {r1: 1, r2: 2, r3: 12}\n",
    "assert(len(d) == 2)"
   ]
  },
  {
   "cell_type": "markdown",
   "metadata": {},
   "source": [
    "`p` and `q` can only be integers. Raise a `RationalNumberValueError` if someone tries to set them to anything else."
   ]
  },
  {
   "cell_type": "code",
   "execution_count": 30,
   "metadata": {},
   "outputs": [
    {
     "name": "stdout",
     "output_type": "stream",
     "text": [
      "This should happen\n",
      "This should happen\n"
     ]
    }
   ],
   "source": [
    "try:\n",
    "    r1.p = 3.4\n",
    "except RationalNumberValueError:\n",
    "    print(\"This should happen\")\n",
    "else:\n",
    "    print(\"This shouldn't happen\")\n",
    "    \n",
    "try:\n",
    "    r1.q = 3.4\n",
    "except ValueError:\n",
    "    print(\"This should happen\")\n",
    "else:\n",
    "    print(\"This shouldn't happen\")"
   ]
  },
  {
   "cell_type": "markdown",
   "metadata": {},
   "source": [
    "Rational numbers may be negative. Make sure that `q` is never negative."
   ]
  },
  {
   "cell_type": "code",
   "execution_count": 37,
   "metadata": {},
   "outputs": [],
   "source": [
    "r = RationalNumber(3, -2)\n",
    "assert r.p == -3 and r.q == 2\n",
    "assert abs(r) == 1.5"
   ]
  },
  {
   "cell_type": "markdown",
   "metadata": {},
   "source": [
    "Add a `from_str` factory method which parses the following formats:"
   ]
  },
  {
   "cell_type": "code",
   "execution_count": 53,
   "metadata": {},
   "outputs": [],
   "source": [
    "r = RationalNumber(-3, 2)\n",
    "\n",
    "assert RationalNumber.from_str(\"-3/2\") == r\n",
    "assert RationalNumber.from_str(\"3/-2\") == r\n",
    "assert RationalNumber.from_str(\"3 / -2\") == r"
   ]
  },
  {
   "cell_type": "markdown",
   "metadata": {},
   "source": [
    "## 2. Comprehension\n",
    "\n",
    "Convert the following for loops into comprehensions:"
   ]
  },
  {
   "cell_type": "code",
   "execution_count": 58,
   "metadata": {},
   "outputs": [
    {
     "name": "stdout",
     "output_type": "stream",
     "text": [
      "[-7, -5, -3, -1, 1, 3, 5, 7]\n",
      "[-7, -5, -3, -1, 1, 3, 5, 7]\n"
     ]
    }
   ],
   "source": [
    "l = [i-2 for i in range(-5, 10, 2)]\n",
    "print(l)\n",
    "l = []\n",
    "for i in range(-5, 10, 2):\n",
    "    l.append(i-2)\n",
    "print(l)"
   ]
  },
  {
   "cell_type": "code",
   "execution_count": 59,
   "metadata": {},
   "outputs": [
    {
     "name": "stdout",
     "output_type": "stream",
     "text": [
      "[4, 14, 24, 34, 44, 54, 64, 74, 84, 94]\n",
      "[4, 14, 24, 34, 44, 54, 64, 74, 84, 94]\n"
     ]
    }
   ],
   "source": [
    "l = [i for i in range(100) if i % 10 == 4]\n",
    "print(l)\n",
    "l = []\n",
    "for i in range(100):\n",
    "    if i % 10 == 4:\n",
    "        l.append(i)\n",
    "print(l)"
   ]
  },
  {
   "cell_type": "code",
   "execution_count": 60,
   "metadata": {},
   "outputs": [
    {
     "name": "stdout",
     "output_type": "stream",
     "text": [
      "[1, 13, -3]\n",
      "[1, 13, -3]\n"
     ]
    }
   ],
   "source": [
    "l1 = [12, 1, 0, 13, -3, -4, 0, 2]\n",
    "l2 = [e for e in l1 if e % 2 == 1]\n",
    "print(l2)\n",
    "l2 = []\n",
    "for e in l1:\n",
    "    if e % 2 == 1:\n",
    "        l2.append(e)\n",
    "print(l2)"
   ]
  },
  {
   "cell_type": "code",
   "execution_count": 61,
   "metadata": {},
   "outputs": [
    {
     "name": "stdout",
     "output_type": "stream",
     "text": [
      "[False, True, False, True, True, False, False, False]\n",
      "[False, True, False, True, True, False, False, False]\n"
     ]
    }
   ],
   "source": [
    "l1 = [12, 1, 0, 13, -3, -4, 0, 2]\n",
    "l2 = [True if e % 2 == 1 else False for e in l1]\n",
    "print(l2)\n",
    "l2 = []\n",
    "for e in l1:\n",
    "    if e % 2 == 1:\n",
    "        l2.append(True)\n",
    "    else:\n",
    "        l2.append(False)\n",
    "print(l2)"
   ]
  },
  {
   "cell_type": "code",
   "execution_count": 65,
   "metadata": {},
   "outputs": [
    {
     "name": "stdout",
     "output_type": "stream",
     "text": [
      "[6, 12, 18, 24, 30, 10, 20, 30, 40, 50, 14, 28, 42, 56, 70, 22, 44, 66, 88, 110, 26, 52, 78, 104, 130, 34, 68, 102, 136, 170, 38, 76, 114, 152, 190]\n",
      "[6, 12, 18, 24, 30, 10, 20, 30, 40, 50, 14, 28, 42, 56, 70, 22, 44, 66, 88, 110, 26, 52, 78, 104, 130, 34, 68, 102, 136, 170, 38, 76, 114, 152, 190]\n"
     ]
    }
   ],
   "source": [
    "l1 = [3, 5, 7, 11, 13, 17, 19]\n",
    "l2 = [2, 4, 6, 8, 10]\n",
    "\n",
    "products = [x*y for x in l1 for y in l2]\n",
    "print(products)\n",
    "products = []\n",
    "for x in l1:\n",
    "    for y in l2:\n",
    "        products.append(x*y)\n",
    "print(products)"
   ]
  },
  {
   "cell_type": "code",
   "execution_count": 74,
   "metadata": {},
   "outputs": [
    {
     "name": "stdout",
     "output_type": "stream",
     "text": [
      "[18, 20, 50, 14, 56, 44, 110, 26, 104, 68, 170, 38, 152]\n",
      "[18, 20, 50, 14, 56, 44, 110, 26, 104, 68, 170, 38, 152]\n"
     ]
    }
   ],
   "source": [
    "l1 = [3, 5, 7, 11, 13, 17, 19]\n",
    "l2 = [2, 4, 6, 8, 10]\n",
    "\n",
    "products = [x*y for x in l1 for y in l2 if (x + y) % 3 == 0]\n",
    "print(products)\n",
    "products = []\n",
    "for x in l1:\n",
    "    for y in l2:\n",
    "        if (x + y) % 3 == 0:\n",
    "            products.append(x*y)\n",
    "print(products)"
   ]
  },
  {
   "cell_type": "code",
   "execution_count": 79,
   "metadata": {},
   "outputs": [
    {
     "name": "stdout",
     "output_type": "stream",
     "text": [
      "[['a', 'pp', 'ppp', 'llll', 'eeeee'], ['p', 'll', 'uuu', 'mmmm'], ['p', 'ee', 'aaa', 'rrrr'], ['a', 'vv', 'ooo', 'cccc', 'aaaaa', 'dddddd', 'ooooooo']]\n",
      "[['a', 'pp', 'ppp', 'llll', 'eeeee'], ['p', 'll', 'uuu', 'mmmm'], ['p', 'ee', 'aaa', 'rrrr'], ['a', 'vv', 'ooo', 'cccc', 'aaaaa', 'dddddd', 'ooooooo']]\n"
     ]
    }
   ],
   "source": [
    "fruits = [\"apple\", \"plum\", \"pear\", \"avocado\"]\n",
    "\n",
    "mtx = [[c*(i+1) for i, c in enumerate(fruit)] for fruit in fruits]\n",
    "print(mtx)\n",
    "mtx = []\n",
    "for fruit in fruits:\n",
    "    row = []\n",
    "    for i, c in enumerate(fruit):\n",
    "        row.append(c*(i+1))\n",
    "    mtx.append(row)\n",
    "print(mtx)"
   ]
  },
  {
   "cell_type": "code",
   "execution_count": 83,
   "metadata": {},
   "outputs": [
    {
     "name": "stdout",
     "output_type": "stream",
     "text": [
      "{'a': 5, 'b': 3, 'c': 1, 'd': 2, 's': 1}\n",
      "{'a': 5, 'b': 3, 'c': 1, 'd': 2, 's': 1}\n"
     ]
    }
   ],
   "source": [
    "from collections import Counter\n",
    "\n",
    "\n",
    "text = \"ababaacdsadb\"\n",
    "\n",
    "char_freqs = {k: v for k, v in Counter(text).items()}\n",
    "print(char_freqs)\n",
    "char_freqs = {}\n",
    "for c in text:\n",
    "    try:\n",
    "        char_freqs[c] += 1\n",
    "    except KeyError:\n",
    "        char_freqs[c] = 1\n",
    "print(char_freqs)"
   ]
  },
  {
   "cell_type": "code",
   "execution_count": 81,
   "metadata": {},
   "outputs": [
    {
     "name": "stdout",
     "output_type": "stream",
     "text": [
      "{'c': 2, 'a': 2, 'b': 3}\n",
      "{'c': 2, 'a': 2, 'b': 3}\n"
     ]
    }
   ],
   "source": [
    "d1 = {\"a\": 1, \"b\": 3, \"c\": 2}\n",
    "d2 = {\"a\": 2, \"b\": 1}\n",
    "\n",
    "d3 = {key: max(d1.get(key, 0), d2.get(key, 0)) for key in set(d1.keys()) | set(d2.keys())}\n",
    "print(d3)\n",
    "d3 = {}\n",
    "for key in set(d1.keys()) | set(d2.keys()):\n",
    "    max_val = max(d1.get(key, 0), d2.get(key, 0))\n",
    "    d3[key] = max_val\n",
    "print(d3)"
   ]
  },
  {
   "cell_type": "markdown",
   "metadata": {},
   "source": [
    "## 3. Generators\n",
    "\n",
    "The following piece of code downloads a small sample of the Hungarian Webcorpus. We will work on this in later exercises.\n",
    "\n",
    "The corpus contains a single word-per-line and sentence boundaries are denoted by empty lines.\n",
    "\n",
    "The file has 4 columns separated by TABs:\n",
    "1. original word\n",
    "2. lemma (stemmed word)\n",
    "3. morphological analysis\n",
    "4. morphological analysis candidates.\n",
    "\n",
    "Take a look at the file before continuing."
   ]
  },
  {
   "cell_type": "code",
   "execution_count": null,
   "metadata": {},
   "outputs": [],
   "source": []
  },
  {
   "cell_type": "markdown",
   "metadata": {},
   "source": [
    "## 3.1. Write a generator function that yields one sentence at a time as a list of tokens. Make sure to yield the very last sentence of the file as well."
   ]
  },
  {
   "cell_type": "code",
   "execution_count": 117,
   "metadata": {},
   "outputs": [],
   "source": [
    "import types\n",
    "\n",
    "\n",
    "def read_sentences(filename):\n",
    "    with open(filename, 'r', encoding=\"utf8\") as f:\n",
    "        sentence = []\n",
    "        for l in f:\n",
    "            if len(l) > 1:\n",
    "                word = l.split('\\t')[0]\n",
    "                sentence.append(word)\n",
    "            else:\n",
    "                yield sentence\n",
    "                sentence = []\n",
    "        yield sentence\n",
    "    \n",
    "sentence = next(read_sentences(fn))\n",
    "assert(len(sentence) == 19)\n",
    "assert isinstance(sentence, list)\n",
    "\n",
    "sentences = read_sentences(fn)\n",
    "assert isinstance(sentences, types.GeneratorType)\n",
    "\n",
    "sentences = list(sentences)\n",
    "assert(len(sentences) == 90764)"
   ]
  },
  {
   "cell_type": "markdown",
   "metadata": {},
   "source": [
    "## 3.2 Write a generator function that yields one sentence at a time but skips short sentences. The length limit should be a parameter of the generator which defaults to 5."
   ]
  },
  {
   "cell_type": "code",
   "execution_count": 115,
   "metadata": {},
   "outputs": [
    {
     "name": "stdout",
     "output_type": "stream",
     "text": [
      "85163\n"
     ]
    }
   ],
   "source": [
    "def read_long_sentences(filename, min_length=5):\n",
    "    for sentence in read_sentences(filename):\n",
    "        if len(sentence) >= min_length:\n",
    "            yield sentence\n",
    "    \n",
    "sentences = read_long_sentences(fn)\n",
    "assert isinstance(sentences, types.GeneratorType)\n",
    "\n",
    "sentences = list(sentences)\n",
    "assert len(sentences) == 85163\n",
    "\n",
    "sentences = read_long_sentences(fn, 15)\n",
    "\n",
    "sentences = list(sentences)\n",
    "assert len(sentences) == 50059"
   ]
  },
  {
   "cell_type": "markdown",
   "metadata": {},
   "source": [
    "## 4. Context managers\n",
    "\n",
    "Create a `Timer` context manager that measures the running time of the `with` block. The context manager takes an optional name argument and prints the block's name at the end too. "
   ]
  },
  {
   "cell_type": "code",
   "execution_count": null,
   "metadata": {
    "collapsed": true
   },
   "outputs": [],
   "source": [
    "class Timer(object):\n",
    "    def __init__(self):\n",
    "        pass\n",
    "    \n",
    "    def __enter__(self):\n",
    "        pass\n",
    "    \n",
    "    def __exit__(self, exc_type, exc_value, traceback):\n",
    "        if exc_type is not None:\n",
    "            print(\"{0} with value {1} caught\\nTraceback: {2}\".format(exc_type, exc_value, traceback))\n",
    "        \n",
    "        \n",
    "# prints \"slow code ran for F seconds\n",
    "# F is the total_seconds the block took to finish (float)\n",
    "with Timer(\"slow code\"):\n",
    "    s = sum(range(100000))\n",
    "    \n",
    "# prints \"unnamed ran for F seconds\n",
    "with Timer():\n",
    "    s = sum(range(100000))"
   ]
  },
  {
   "cell_type": "markdown",
   "metadata": {},
   "source": [
    "## 5. Extra exercise, binary search tree\n",
    "\n",
    "Create a binary search tree for integers. You should implement a `Tree` and a `Node` class.\n",
    "\n",
    "Implement the following:\n",
    "- iteration protocol for the tree. Traversal should be in-order (increasing order).\n",
    "- sum(tree) - sum of all the elements\n",
    "- min(tree), max(tree) - smallest, largest element\n",
    "- len(tree) - number of nodes"
   ]
  },
  {
   "cell_type": "code",
   "execution_count": null,
   "metadata": {
    "collapsed": true
   },
   "outputs": [],
   "source": []
  }
 ],
 "metadata": {
  "kernelspec": {
   "display_name": "Python 3",
   "language": "python",
   "name": "python3"
  },
  "language_info": {
   "codemirror_mode": {
    "name": "ipython",
    "version": 3
   },
   "file_extension": ".py",
   "mimetype": "text/x-python",
   "name": "python",
   "nbconvert_exporter": "python",
   "pygments_lexer": "ipython3",
   "version": "3.6.2"
  }
 },
 "nbformat": 4,
 "nbformat_minor": 2
}
